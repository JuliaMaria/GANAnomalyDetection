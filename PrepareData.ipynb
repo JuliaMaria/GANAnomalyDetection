{
 "cells": [
  {
   "cell_type": "code",
   "execution_count": 3,
   "metadata": {},
   "outputs": [],
   "source": [
    "import pandas as pd\n",
    "from tqdm import tqdm"
   ]
  },
  {
   "cell_type": "code",
   "execution_count": 4,
   "metadata": {},
   "outputs": [],
   "source": [
    "datasets = [f'A-{i}' for i in range(1, 10)]\n",
    "labels = pd.read_csv('labels.csv')"
   ]
  },
  {
   "cell_type": "code",
   "execution_count": 5,
   "metadata": {},
   "outputs": [
    {
     "name": "stderr",
     "output_type": "stream",
     "text": [
      "  0%|          | 0/9 [00:00<?, ?it/s]C:\\Users\\jmay2\\.conda\\envs\\quantum_mechanics\\lib\\site-packages\\pandas\\core\\indexing.py:670: SettingWithCopyWarning: \n",
      "A value is trying to be set on a copy of a slice from a DataFrame\n",
      "\n",
      "See the caveats in the documentation: https://pandas.pydata.org/pandas-docs/stable/user_guide/indexing.html#returning-a-view-versus-a-copy\n",
      "  iloc._setitem_with_indexer(indexer, value)\n",
      "100%|██████████| 9/9 [00:00<00:00, 24.70it/s]\n"
     ]
    }
   ],
   "source": [
    "for dataset in tqdm(datasets):\n",
    "    train = pd.read_csv(f'csv/{dataset}-train.csv', index_col=0)\n",
    "    test = pd.read_csv(f'csv/{dataset}-test.csv', index_col=0)\n",
    "    \n",
    "    anomalies = labels[labels['signal'] == dataset]['events'].iloc[0]\n",
    "    anomalies = eval(anomalies)\n",
    "        \n",
    "    train['anomaly'] = 0\n",
    "    test['anomaly'] = 0\n",
    "    for anomaly in anomalies:\n",
    "        train['anomaly'].loc[anomaly[0]:anomaly[1]] = 1\n",
    "        test['anomaly'].loc[anomaly[0]:anomaly[1]] = 1\n",
    "        \n",
    "    train.columns = ['signal', 'anomaly']\n",
    "    train = train.reset_index()\n",
    "    test.columns = ['signal', 'anomaly']\n",
    "    test = test.reset_index()\n",
    "    \n",
    "    train.to_csv(f'prepared_data/{dataset}-train.csv')\n",
    "    test.to_csv(f'prepared_data/{dataset}-test.csv')"
   ]
  },
  {
   "cell_type": "code",
   "execution_count": null,
   "metadata": {},
   "outputs": [],
   "source": []
  }
 ],
 "metadata": {
  "kernelspec": {
   "display_name": "Python (quantum_mechanics)",
   "language": "python",
   "name": "quantum_mechanics"
  },
  "language_info": {
   "codemirror_mode": {
    "name": "ipython",
    "version": 3
   },
   "file_extension": ".py",
   "mimetype": "text/x-python",
   "name": "python",
   "nbconvert_exporter": "python",
   "pygments_lexer": "ipython3",
   "version": "3.6.12"
  }
 },
 "nbformat": 4,
 "nbformat_minor": 2
}
