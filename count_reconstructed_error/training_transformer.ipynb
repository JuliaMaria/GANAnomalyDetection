{
  "cells": [
    {
      "cell_type": "code",
      "execution_count": 1,
      "metadata": {
        "colab": {
          "base_uri": "https://localhost:8080/"
        },
        "id": "aTTbBAUPFODs",
        "outputId": "97f226e7-373c-4e4c-ff79-c20ae1984a91"
      },
      "outputs": [
        {
          "output_type": "stream",
          "name": "stdout",
          "text": [
            "Mounted at /content/drive\n"
          ]
        }
      ],
      "source": [
        "from google.colab import drive\n",
        "drive.mount('/content/drive')\n"
      ]
    },
    {
      "cell_type": "code",
      "execution_count": 2,
      "metadata": {
        "id": "n3O7RHGDFcNN"
      },
      "outputs": [],
      "source": [
        "import sys\n",
        "sys.path.append('/content/drive/MyDrive/GANAnomalyDetection/count_reconstructed_error')"
      ]
    },
    {
      "cell_type": "code",
      "execution_count": 3,
      "metadata": {
        "id": "TYHYbZ4JFvu2"
      },
      "outputs": [],
      "source": [
        "import logging\n",
        "import pandas as pd\n",
        "import numpy as np\n",
        "\n",
        "import torch\n",
        "import torch.optim as optim\n",
        "from torch.autograd import Variable\n",
        "from torch.utils.data import Dataset, DataLoader\n",
        "from tqdm import tqdm\n",
        "\n",
        "import model_transformer\n",
        "import anomaly_detection\n",
        "from utils import SignalDataset\n",
        "from interface import train\n",
        "\n",
        "from datetime import datetime\n",
        "import matplotlib.pyplot as plt\n",
        "import matplotlib.dates as mdates\n",
        "import matplotlib.gridspec as gridspec\n",
        "from sklearn.preprocessing import MinMaxScaler"
      ]
    },
    {
      "cell_type": "code",
      "execution_count": 4,
      "metadata": {
        "id": "RThIiNUAFyJz"
      },
      "outputs": [],
      "source": [
        "def convert_date(timelist):\n",
        "    converted = list()\n",
        "    for x in timelist:\n",
        "        converted.append(datetime.fromtimestamp(x))\n",
        "    return converted"
      ]
    },
    {
      "cell_type": "code",
      "execution_count": 5,
      "metadata": {
        "id": "fL8bSCTkF8gY"
      },
      "outputs": [],
      "source": [
        "def known_anomalies(anomalies_list):\n",
        "    found = list()\n",
        "    for i in range(len(anomalies_list)):\n",
        "        if anomalies_list[i] == 1:\n",
        "            found.append(i)\n",
        "    return found"
      ]
    },
    {
      "cell_type": "code",
      "execution_count": 6,
      "metadata": {
        "id": "-okL6FIYF_BK"
      },
      "outputs": [],
      "source": [
        "def plot(dfs, anomalies=[]):   \n",
        "    if isinstance(dfs, pd.DataFrame):\n",
        "        dfs = [dfs]\n",
        "        \n",
        "    df = dfs[0]\n",
        "    time = convert_date(df['timestamp'])\n",
        "    anomalies_data = []\n",
        "    if 'anomaly' in df.columns:\n",
        "        anomalies_data = known_anomalies(df['anomaly'])\n",
        "\n",
        "    fig = plt.figure(figsize=(30, 6))\n",
        "    ax = fig.add_subplot(111)\n",
        "\n",
        "    for df in dfs:\n",
        "        plt.plot(time, df['signal'])\n",
        "    \n",
        "    for a_f in anomalies_data:\n",
        "        plt.axvline(time[a_f], color='r', alpha=0.02)\n",
        "\n",
        "    plt.title('Dataset', size=34)\n",
        "    plt.ylabel('value', size=30)\n",
        "    plt.xlabel('Time', size=30)\n",
        "    plt.xticks(size=26)\n",
        "    plt.yticks(size=26)\n",
        "    plt.xlim([time[0], time[-1]])\n",
        "    \n",
        "    plt.show()"
      ]
    },
    {
      "cell_type": "code",
      "execution_count": 7,
      "metadata": {
        "id": "sGi-e_7cGBPp"
      },
      "outputs": [],
      "source": [
        "#plot signal shape\n",
        "temperature_data = pd.read_csv('/content/drive/MyDrive/GANAnomalyDetection/count_reconstructed_error/datasets/machine_temperature_system_failure.csv')\n",
        "temperature_data['timestamp'] = pd.to_datetime(temperature_data['timestamp'])\n",
        "temperature_data['timestamp'] = temperature_data['timestamp'].apply(lambda x: (x-pd.Timestamp(\"1970-01-01\")) // pd.Timedelta('1s'))\n",
        "temperature_data = temperature_data.rename(columns={\"value\": \"signal\"})\n",
        "temperature_data['anomaly'] = 0\n",
        "min_max_scaler = MinMaxScaler()\n",
        "temperature_data[['signal']] = min_max_scaler.fit_transform(temperature_data[[\"signal\"]])"
      ]
    },
    {
      "cell_type": "code",
      "execution_count": 8,
      "metadata": {
        "colab": {
          "base_uri": "https://localhost:8080/"
        },
        "id": "shNn-ipMGFIV",
        "outputId": "022b502a-840d-433b-fd1c-3ac2cd1aba13"
      },
      "outputs": [
        {
          "output_type": "stream",
          "name": "stdout",
          "text": [
            "    timestamp    signal  anomaly\n",
            "0  1386018900  0.675424        0\n",
            "1  1386019200  0.684525        0\n",
            "2  1386019500  0.695691        0\n",
            "3  1386019800  0.714638        0\n",
            "4  1386020100  0.725812        0\n",
            "<class 'pandas.core.frame.DataFrame'>\n",
            "RangeIndex: 5000 entries, 0 to 4999\n",
            "Data columns (total 3 columns):\n",
            " #   Column     Non-Null Count  Dtype  \n",
            "---  ------     --------------  -----  \n",
            " 0   timestamp  5000 non-null   int64  \n",
            " 1   signal     5000 non-null   float64\n",
            " 2   anomaly    5000 non-null   int64  \n",
            "dtypes: float64(1), int64(2)\n",
            "memory usage: 117.3 KB\n",
            "None\n"
          ]
        }
      ],
      "source": [
        "temperature_data_train = temperature_data[:5000]\n",
        "print(temperature_data_train.head())\n",
        "print(temperature_data_train.info())\n",
        "temperature_data_train.to_csv('/content/drive/MyDrive/GANAnomalyDetection/count_reconstructed_error/datasets/temperature_train.csv', index=False)"
      ]
    },
    {
      "cell_type": "code",
      "execution_count": 9,
      "metadata": {
        "colab": {
          "base_uri": "https://localhost:8080/",
          "height": 368
        },
        "id": "iPsd_yfTGSGR",
        "outputId": "08686310-6a73-4e77-e66d-7d004b8a5e9f"
      },
      "outputs": [
        {
          "output_type": "display_data",
          "data": {
            "image/png": "[encoded data removed]",
            "text/plain": [
              "<Figure size 2160x432 with 1 Axes>"
            ]
          },
          "metadata": {
            "needs_background": "light"
          }
        }
      ],
      "source": [
        "plot(temperature_data_train)"
      ]
    },
    {
      "cell_type": "code",
      "execution_count": 10,
      "metadata": {
        "colab": {
          "base_uri": "https://localhost:8080/"
        },
        "id": "fADCEEz4Ga1B",
        "outputId": "e0aa0518-198b-400e-ce52-9b56f245a511"
      },
      "outputs": [
        {
          "output_type": "stream",
          "name": "stdout",
          "text": [
            "       timestamp    signal  anomaly\n",
            "5000  1387518900  0.872812        0\n",
            "5001  1387519200  0.878082        0\n",
            "5002  1387519500  0.879614        0\n",
            "5003  1387519800  0.870780        0\n",
            "5004  1387520100  0.880160        0\n",
            "<class 'pandas.core.frame.DataFrame'>\n",
            "RangeIndex: 2000 entries, 5000 to 6999\n",
            "Data columns (total 3 columns):\n",
            " #   Column     Non-Null Count  Dtype  \n",
            "---  ------     --------------  -----  \n",
            " 0   timestamp  2000 non-null   int64  \n",
            " 1   signal     2000 non-null   float64\n",
            " 2   anomaly    2000 non-null   int64  \n",
            "dtypes: float64(1), int64(2)\n",
            "memory usage: 47.0 KB\n",
            "None\n"
          ]
        }
      ],
      "source": [
        "temperature_data_test = temperature_data[5000:7000]\n",
        "print(temperature_data_test.head())\n",
        "print(temperature_data_test.info())\n",
        "temperature_data_test.to_csv('/content/drive/MyDrive/GANAnomalyDetection/count_reconstructed_error/datasets/temperature_test.csv', index=False)"
      ]
    },
    {
      "cell_type": "code",
      "execution_count": 11,
      "metadata": {
        "colab": {
          "base_uri": "https://localhost:8080/",
          "height": 359
        },
        "id": "0HM6uODtGfer",
        "outputId": "8e32e269-b9d9-4c66-8385-0ecf45653711"
      },
      "outputs": [
        {
          "output_type": "display_data",
          "data": {
            "image/png": "[encoded data removed]",
            "text/plain": [
              "<Figure size 2160x432 with 1 Axes>"
            ]
          },
          "metadata": {
            "needs_background": "light"
          }
        }
      ],
      "source": [
        "if isinstance(temperature_data_test, pd.DataFrame):\n",
        "    dfs = [temperature_data_test]\n",
        "        \n",
        "df = dfs[0]\n",
        "time = convert_date(df['timestamp'])\n",
        "\n",
        "\n",
        "fig = plt.figure(figsize=(30, 6))\n",
        "ax = fig.add_subplot(111)\n",
        "\n",
        "for df in dfs:\n",
        "    plt.plot(time, df['signal'])\n",
        "\n",
        "\n",
        "plt.title('Dataset', size=34)\n",
        "plt.ylabel('value', size=30)\n",
        "plt.xlabel('Time', size=30)\n",
        "plt.xticks(size=26)\n",
        "plt.yticks(size=26)\n",
        "plt.xlim([time[0], time[-1]])\n",
        "    \n",
        "plt.show()"
      ]
    },
    {
      "cell_type": "code",
      "execution_count": 12,
      "metadata": {
        "id": "-E_z9fEpGhg_"
      },
      "outputs": [],
      "source": [
        "train_dataset = SignalDataset(path=f'/content/drive/MyDrive/GANAnomalyDetection/count_reconstructed_error/datasets/temperature_train.csv')\n",
        "test_dataset = SignalDataset(path=f'/content/drive/MyDrive/GANAnomalyDetection/count_reconstructed_error/datasets/temperature_test.csv')"
      ]
    },
    {
      "cell_type": "code",
      "execution_count": 13,
      "metadata": {
        "id": "of8TzfcMGoLF"
      },
      "outputs": [],
      "source": [
        "def critic_x_iteration(sample):\n",
        "    optim_cx.zero_grad()\n",
        "\n",
        "    x = sample['signal'].view(1, batch_size, signal_shape)\n",
        "    valid_x = critic_x(x)\n",
        "    valid_x = torch.squeeze(valid_x)\n",
        "    critic_score_valid_x = torch.mean(torch.ones(valid_x.shape) * valid_x)  # Wasserstein Loss\n",
        "\n",
        "    # The sampled z are the anomalous points - points deviating from actual distribution of z (obtained through\n",
        "    # encoding x)\n",
        "    z = torch.empty(1, batch_size, latent_space_dim).uniform_(0, 1)\n",
        "    x_ = decoder(z)\n",
        "    fake_x = critic_x(x_)\n",
        "    fake_x = torch.squeeze(fake_x)\n",
        "    critic_score_fake_x = torch.mean(torch.ones(fake_x.shape) * fake_x)  # Wasserstein Loss\n",
        "\n",
        "    alpha = torch.rand(x.shape)\n",
        "    ix = Variable(alpha * x + (1 - alpha) * x_)  # Random Weighted Average\n",
        "    ix.requires_grad_(True)\n",
        "    v_ix = critic_x(ix)\n",
        "    v_ix.mean().backward()\n",
        "    gradients = ix.grad\n",
        "    # Gradient Penalty Loss\n",
        "    gp_loss = torch.sqrt(torch.sum(torch.square(gradients).view(-1)))\n",
        "\n",
        "    # Critic has to maximize Cx(Valid X) - Cx(Fake X).\n",
        "    # Maximizing the above is same as minimizing the negative.\n",
        "    wl = critic_score_fake_x - critic_score_valid_x\n",
        "    loss = wl + gp_loss\n",
        "    loss.backward()\n",
        "    optim_cx.step()\n",
        "\n",
        "    return loss"
      ]
    },
    {
      "cell_type": "code",
      "execution_count": 14,
      "metadata": {
        "id": "fuuVTcMPGv9J"
      },
      "outputs": [],
      "source": [
        "def critic_z_iteration(sample):\n",
        "    optim_cz.zero_grad()\n",
        "\n",
        "    x = sample['signal'].view(1, batch_size, signal_shape)\n",
        "    z = encoder(x)\n",
        "    valid_z = critic_z(z)\n",
        "    valid_z = torch.squeeze(valid_z)\n",
        "    critic_score_valid_z = torch.mean(torch.ones(valid_z.shape) * valid_z)\n",
        "\n",
        "    z_ = torch.empty(1, batch_size, latent_space_dim).uniform_(0, 1)\n",
        "    fake_z = critic_z(z_)\n",
        "    fake_z = torch.squeeze(fake_z)\n",
        "    critic_score_fake_z = torch.mean(torch.ones(fake_z.shape) * fake_z)  # Wasserstein Loss\n",
        "\n",
        "    wl = critic_score_fake_z - critic_score_valid_z\n",
        "\n",
        "    alpha = torch.rand(z.shape)\n",
        "    iz = Variable(alpha * z + (1 - alpha) * z_)  # Random Weighted Average\n",
        "    iz.requires_grad_(True)\n",
        "    v_iz = critic_z(iz)\n",
        "    v_iz.mean().backward()\n",
        "    gradients = iz.grad\n",
        "    gp_loss = torch.sqrt(torch.sum(torch.square(gradients).view(-1)))\n",
        "\n",
        "    loss = wl + gp_loss\n",
        "    loss.backward()\n",
        "    optim_cz.step()\n",
        "\n",
        "    return loss"
      ]
    },
    {
      "cell_type": "code",
      "execution_count": 15,
      "metadata": {
        "id": "zUa69mJKGzGP"
      },
      "outputs": [],
      "source": [
        "def encoder_iteration(sample):\n",
        "    optim_enc.zero_grad()\n",
        "\n",
        "    x = sample['signal'].view(1, batch_size, signal_shape)\n",
        "    valid_x = critic_x(x)\n",
        "    valid_x = torch.squeeze(valid_x)\n",
        "    critic_score_valid_x = torch.mean(torch.ones(valid_x.shape) * valid_x)  # Wasserstein Loss\n",
        "\n",
        "    z = torch.empty(1, batch_size, latent_space_dim).uniform_(0, 1)\n",
        "    x_ = decoder(z)\n",
        "    fake_x = critic_x(x_)\n",
        "    fake_x = torch.squeeze(fake_x)\n",
        "    critic_score_fake_x = torch.mean(torch.ones(fake_x.shape) * fake_x)\n",
        "\n",
        "    enc_z = encoder(x)\n",
        "    gen_x = decoder(enc_z)\n",
        "\n",
        "    mse = mse_loss(x.float(), gen_x.float())\n",
        "    loss_enc = mse + critic_score_valid_x - critic_score_fake_x\n",
        "    loss_enc.backward(retain_graph=True)\n",
        "    optim_enc.step()\n",
        "\n",
        "    return loss_enc"
      ]
    },
    {
      "cell_type": "code",
      "execution_count": 16,
      "metadata": {
        "id": "cgjngZdbG1aX"
      },
      "outputs": [],
      "source": [
        "def decoder_iteration(sample):\n",
        "    optim_dec.zero_grad()\n",
        "\n",
        "    x = sample['signal'].view(1, batch_size, signal_shape)\n",
        "    z = encoder(x)\n",
        "    valid_z = critic_z(z)\n",
        "    valid_z = torch.squeeze(valid_z)\n",
        "    critic_score_valid_z = torch.mean(torch.ones(valid_z.shape) * valid_z)\n",
        "\n",
        "    z_ = torch.empty(1, batch_size, latent_space_dim).uniform_(0, 1)\n",
        "    fake_z = critic_z(z_)\n",
        "    fake_z = torch.squeeze(fake_z)\n",
        "    critic_score_fake_z = torch.mean(torch.ones(fake_z.shape) * fake_z)\n",
        "\n",
        "    enc_z = encoder(x)\n",
        "    gen_x = decoder(enc_z)\n",
        "\n",
        "    mse = mse_loss(x.float(), gen_x.float())\n",
        "    loss_dec = mse + critic_score_valid_z - critic_score_fake_z\n",
        "    loss_dec.backward(retain_graph=True)\n",
        "    optim_dec.step()\n",
        "\n",
        "    return loss_dec"
      ]
    },
    {
      "cell_type": "code",
      "execution_count": 17,
      "metadata": {
        "id": "QjUPMPdWG3UO"
      },
      "outputs": [],
      "source": [
        "def train(n_epochs=100):\n",
        "    cx_epoch_loss = list()\n",
        "    cz_epoch_loss = list()\n",
        "    encoder_epoch_loss = list()\n",
        "    decoder_epoch_loss = list()\n",
        "\n",
        "    for epoch in range(n_epochs):\n",
        "        n_critics = 5\n",
        "\n",
        "        cx_nc_loss = list()\n",
        "        cz_nc_loss = list()\n",
        "\n",
        "        for i in range(n_critics):\n",
        "            cx_loss = list()\n",
        "            cz_loss = list()\n",
        "\n",
        "            for batch, sample in tqdm(enumerate(train_loader)):\n",
        "                loss = critic_x_iteration(sample)\n",
        "                cx_loss.append(loss)\n",
        "\n",
        "                loss = critic_z_iteration(sample)\n",
        "                cz_loss.append(loss)\n",
        "\n",
        "            cx_nc_loss.append(torch.mean(torch.tensor(cx_loss)))\n",
        "            cz_nc_loss.append(torch.mean(torch.tensor(cz_loss)))\n",
        "\n",
        "        encoder_loss = list()\n",
        "        decoder_loss = list()\n",
        "\n",
        "        for batch, sample in tqdm(enumerate(train_loader)):\n",
        "            enc_loss = encoder_iteration(sample)\n",
        "            dec_loss = decoder_iteration(sample)\n",
        "            encoder_loss.append(enc_loss)\n",
        "            decoder_loss.append(dec_loss)\n",
        "\n",
        "        cx_epoch_loss.append(torch.mean(torch.tensor(cx_nc_loss)))\n",
        "        cz_epoch_loss.append(torch.mean(torch.tensor(cz_nc_loss)))\n",
        "        encoder_epoch_loss.append(torch.mean(torch.tensor(encoder_loss)))\n",
        "        decoder_epoch_loss.append(torch.mean(torch.tensor(decoder_loss)))\n",
        "        print(\"epoch\", epoch)\n",
        "        print('critic x loss {:.3f} critic z loss {:.3f} encoder loss {:.3f} decoder loss {:.3f}\\n'.format(\n",
        "            cx_epoch_loss[-1], cz_epoch_loss[-1], encoder_epoch_loss[-1], decoder_epoch_loss[-1]))"
      ]
    },
    {
      "cell_type": "code",
      "execution_count": 18,
      "metadata": {
        "id": "sykr8c0XG8Zj"
      },
      "outputs": [],
      "source": [
        "def evaluate(test_loader):\n",
        "\n",
        "    reconstructed_unroll = []\n",
        "\n",
        "    for batch, sample in tqdm(enumerate(test_loader)):\n",
        "        reconstructed_signal = decoder(encoder(sample['signal']))\n",
        "        reconstructed_signal = torch.squeeze(reconstructed_signal)\n",
        "        median_values, median_indices = torch.median(reconstructed_signal, 1)\n",
        "        median_values_list = median_values.tolist()\n",
        "        reconstructed_unroll.extend(median_values_list)\n",
        "    return np.asarray(reconstructed_unroll)"
      ]
    },
    {
      "cell_type": "code",
      "execution_count": 20,
      "metadata": {
        "colab": {
          "base_uri": "https://localhost:8080/"
        },
        "id": "HbywGVzTG-wu",
        "outputId": "b6545800-3b97-4318-cb43-cbe70424eb6a"
      },
      "outputs": [
        {
          "output_type": "stream",
          "name": "stderr",
          "text": [
            "76it [00:07,  9.54it/s]\n",
            "76it [00:07,  9.61it/s]\n",
            "76it [00:07,  9.56it/s]\n",
            "76it [00:07,  9.77it/s]\n",
            "76it [00:07,  9.75it/s]\n",
            "76it [00:17,  4.46it/s]\n"
          ]
        },
        {
          "output_type": "stream",
          "name": "stdout",
          "text": [
            "epoch 0\n",
            "critic x loss 0.302 critic z loss 0.485 encoder loss 0.768 decoder loss 0.545\n",
            "\n"
          ]
        },
        {
          "output_type": "stream",
          "name": "stderr",
          "text": [
            "76it [00:07,  9.65it/s]\n",
            "76it [00:07,  9.85it/s]\n",
            "76it [00:08,  8.93it/s]\n",
            "76it [00:07,  9.76it/s]\n",
            "76it [00:07,  9.57it/s]\n",
            "76it [00:16,  4.66it/s]\n"
          ]
        },
        {
          "output_type": "stream",
          "name": "stdout",
          "text": [
            "epoch 1\n",
            "critic x loss 0.242 critic z loss 0.534 encoder loss 0.721 decoder loss 0.411\n",
            "\n"
          ]
        },
        {
          "output_type": "stream",
          "name": "stderr",
          "text": [
            "76it [00:07,  9.90it/s]\n",
            "76it [00:07,  9.75it/s]\n",
            "76it [00:07,  9.67it/s]\n",
            "76it [00:07,  9.73it/s]\n",
            "76it [00:07,  9.64it/s]\n",
            "76it [00:16,  4.64it/s]\n"
          ]
        },
        {
          "output_type": "stream",
          "name": "stdout",
          "text": [
            "epoch 2\n",
            "critic x loss 0.185 critic z loss 0.547 encoder loss 0.709 decoder loss 0.358\n",
            "\n"
          ]
        },
        {
          "output_type": "stream",
          "name": "stderr",
          "text": [
            "76it [00:07,  9.70it/s]\n",
            "76it [00:08,  9.07it/s]\n",
            "76it [00:07,  9.76it/s]\n",
            "76it [00:07, 10.18it/s]\n",
            "76it [00:08,  9.42it/s]\n",
            "76it [00:16,  4.63it/s]\n"
          ]
        },
        {
          "output_type": "stream",
          "name": "stdout",
          "text": [
            "epoch 3\n",
            "critic x loss 0.129 critic z loss 0.531 encoder loss 0.722 decoder loss 0.330\n",
            "\n"
          ]
        },
        {
          "output_type": "stream",
          "name": "stderr",
          "text": [
            "76it [00:08,  8.46it/s]\n",
            "76it [00:08,  9.35it/s]\n",
            "76it [00:08,  9.19it/s]\n",
            "76it [00:08,  9.16it/s]\n",
            "76it [00:08,  8.67it/s]\n",
            "76it [00:17,  4.36it/s]\n"
          ]
        },
        {
          "output_type": "stream",
          "name": "stdout",
          "text": [
            "epoch 4\n",
            "critic x loss 0.075 critic z loss 0.502 encoder loss 0.739 decoder loss 0.328\n",
            "\n"
          ]
        },
        {
          "output_type": "stream",
          "name": "stderr",
          "text": [
            "76it [00:08,  9.36it/s]\n",
            "76it [00:08,  9.34it/s]\n",
            "76it [00:08,  9.05it/s]\n",
            "76it [00:08,  9.23it/s]\n",
            "76it [00:08,  9.04it/s]\n",
            "76it [00:16,  4.52it/s]\n"
          ]
        },
        {
          "output_type": "stream",
          "name": "stdout",
          "text": [
            "epoch 5\n",
            "critic x loss 0.024 critic z loss 0.464 encoder loss 0.758 decoder loss 0.338\n",
            "\n"
          ]
        },
        {
          "output_type": "stream",
          "name": "stderr",
          "text": [
            "76it [00:08,  8.93it/s]\n",
            "76it [00:08,  9.10it/s]\n",
            "76it [00:08,  9.20it/s]\n",
            "76it [00:08,  9.12it/s]\n",
            "76it [00:08,  9.18it/s]\n",
            "76it [00:16,  4.56it/s]\n"
          ]
        },
        {
          "output_type": "stream",
          "name": "stdout",
          "text": [
            "epoch 6\n",
            "critic x loss -0.028 critic z loss 0.430 encoder loss 0.788 decoder loss 0.350\n",
            "\n"
          ]
        },
        {
          "output_type": "stream",
          "name": "stderr",
          "text": [
            "76it [00:07,  9.50it/s]\n",
            "76it [00:08,  9.45it/s]\n",
            "76it [00:08,  9.17it/s]\n",
            "76it [00:08,  9.15it/s]\n",
            "76it [00:08,  9.25it/s]\n",
            "76it [00:16,  4.56it/s]\n"
          ]
        },
        {
          "output_type": "stream",
          "name": "stdout",
          "text": [
            "epoch 7\n",
            "critic x loss -0.079 critic z loss 0.393 encoder loss 0.818 decoder loss 0.366\n",
            "\n"
          ]
        },
        {
          "output_type": "stream",
          "name": "stderr",
          "text": [
            "76it [00:08,  9.06it/s]\n",
            "76it [00:08,  9.13it/s]\n",
            "76it [00:08,  9.18it/s]\n",
            "76it [00:08,  9.12it/s]\n",
            "76it [00:08,  9.29it/s]\n",
            "76it [00:16,  4.53it/s]\n"
          ]
        },
        {
          "output_type": "stream",
          "name": "stdout",
          "text": [
            "epoch 8\n",
            "critic x loss -0.133 critic z loss 0.358 encoder loss 0.852 decoder loss 0.379\n",
            "\n"
          ]
        },
        {
          "output_type": "stream",
          "name": "stderr",
          "text": [
            "76it [00:08,  9.21it/s]\n",
            "76it [00:08,  9.16it/s]\n",
            "76it [00:08,  9.22it/s]\n",
            "76it [00:08,  9.03it/s]\n",
            "76it [00:08,  9.27it/s]\n",
            "76it [00:16,  4.48it/s]\n"
          ]
        },
        {
          "output_type": "stream",
          "name": "stdout",
          "text": [
            "epoch 9\n",
            "critic x loss -0.186 critic z loss 0.328 encoder loss 0.890 decoder loss 0.392\n",
            "\n"
          ]
        },
        {
          "output_type": "stream",
          "name": "stderr",
          "text": [
            "76it [00:08,  8.90it/s]\n",
            "76it [00:08,  9.09it/s]\n",
            "76it [00:08,  9.40it/s]\n",
            "76it [00:08,  9.19it/s]\n",
            "76it [00:08,  9.21it/s]\n",
            "76it [00:16,  4.48it/s]\n"
          ]
        },
        {
          "output_type": "stream",
          "name": "stdout",
          "text": [
            "epoch 10\n",
            "critic x loss -0.236 critic z loss 0.298 encoder loss 0.926 decoder loss 0.412\n",
            "\n"
          ]
        },
        {
          "output_type": "stream",
          "name": "stderr",
          "text": [
            "76it [00:08,  9.13it/s]\n",
            "76it [00:08,  9.15it/s]\n",
            "76it [00:08,  9.21it/s]\n",
            "76it [00:08,  9.06it/s]\n",
            "76it [00:08,  9.06it/s]\n",
            "76it [00:16,  4.53it/s]\n"
          ]
        },
        {
          "output_type": "stream",
          "name": "stdout",
          "text": [
            "epoch 11\n",
            "critic x loss -0.287 critic z loss 0.272 encoder loss 0.962 decoder loss 0.408\n",
            "\n"
          ]
        },
        {
          "output_type": "stream",
          "name": "stderr",
          "text": [
            "76it [00:08,  9.09it/s]\n",
            "76it [00:08,  9.11it/s]\n",
            "76it [00:08,  9.22it/s]\n",
            "76it [00:08,  9.11it/s]\n",
            "76it [00:08,  9.29it/s]\n",
            "76it [00:16,  4.49it/s]\n"
          ]
        },
        {
          "output_type": "stream",
          "name": "stdout",
          "text": [
            "epoch 12\n",
            "critic x loss -0.337 critic z loss 0.251 encoder loss 1.006 decoder loss 0.429\n",
            "\n"
          ]
        },
        {
          "output_type": "stream",
          "name": "stderr",
          "text": [
            "76it [00:08,  9.06it/s]\n",
            "76it [00:08,  9.02it/s]\n",
            "76it [00:08,  9.25it/s]\n",
            "76it [00:08,  8.99it/s]\n",
            "76it [00:08,  9.10it/s]\n",
            "76it [00:16,  4.54it/s]\n"
          ]
        },
        {
          "output_type": "stream",
          "name": "stdout",
          "text": [
            "epoch 13\n",
            "critic x loss -0.391 critic z loss 0.225 encoder loss 1.044 decoder loss 0.436\n",
            "\n"
          ]
        },
        {
          "output_type": "stream",
          "name": "stderr",
          "text": [
            "76it [00:08,  9.17it/s]\n",
            "76it [00:08,  9.25it/s]\n",
            "76it [00:08,  8.86it/s]\n",
            "76it [00:09,  7.84it/s]\n",
            "76it [00:08,  9.25it/s]\n",
            "76it [00:17,  4.35it/s]\n"
          ]
        },
        {
          "output_type": "stream",
          "name": "stdout",
          "text": [
            "epoch 14\n",
            "critic x loss -0.439 critic z loss 0.204 encoder loss 1.086 decoder loss 0.447\n",
            "\n"
          ]
        },
        {
          "output_type": "stream",
          "name": "stderr",
          "text": [
            "76it [00:08,  9.31it/s]\n",
            "76it [00:08,  9.26it/s]\n",
            "76it [00:08,  9.16it/s]\n",
            "76it [00:09,  7.66it/s]\n",
            "76it [00:08,  9.30it/s]\n",
            "76it [00:17,  4.43it/s]\n"
          ]
        },
        {
          "output_type": "stream",
          "name": "stdout",
          "text": [
            "epoch 15\n",
            "critic x loss -0.491 critic z loss 0.184 encoder loss 1.129 decoder loss 0.464\n",
            "\n"
          ]
        },
        {
          "output_type": "stream",
          "name": "stderr",
          "text": [
            "76it [00:08,  9.38it/s]\n",
            "76it [00:08,  9.27it/s]\n",
            "76it [00:08,  9.13it/s]\n",
            "76it [00:08,  9.16it/s]\n",
            "76it [00:08,  9.07it/s]\n",
            "76it [00:17,  4.46it/s]\n"
          ]
        },
        {
          "output_type": "stream",
          "name": "stdout",
          "text": [
            "epoch 16\n",
            "critic x loss -0.541 critic z loss 0.165 encoder loss 1.171 decoder loss 0.474\n",
            "\n"
          ]
        },
        {
          "output_type": "stream",
          "name": "stderr",
          "text": [
            "76it [00:08,  9.08it/s]\n",
            "76it [00:08,  9.04it/s]\n",
            "76it [00:08,  9.12it/s]\n",
            "76it [00:08,  9.08it/s]\n",
            "76it [00:08,  9.03it/s]\n",
            "76it [00:16,  4.53it/s]\n"
          ]
        },
        {
          "output_type": "stream",
          "name": "stdout",
          "text": [
            "epoch 17\n",
            "critic x loss -0.591 critic z loss 0.149 encoder loss 1.214 decoder loss 0.486\n",
            "\n"
          ]
        },
        {
          "output_type": "stream",
          "name": "stderr",
          "text": [
            "76it [00:08,  9.14it/s]\n",
            "76it [00:08,  8.94it/s]\n",
            "76it [00:08,  9.23it/s]\n",
            "76it [00:08,  9.16it/s]\n",
            "76it [00:08,  9.28it/s]\n",
            "76it [00:16,  4.53it/s]\n"
          ]
        },
        {
          "output_type": "stream",
          "name": "stdout",
          "text": [
            "epoch 18\n",
            "critic x loss -0.639 critic z loss 0.130 encoder loss 1.260 decoder loss 0.490\n",
            "\n"
          ]
        },
        {
          "output_type": "stream",
          "name": "stderr",
          "text": [
            "76it [00:08,  9.30it/s]\n",
            "76it [00:08,  9.30it/s]\n",
            "76it [00:08,  9.36it/s]\n",
            "76it [00:08,  9.28it/s]\n",
            "76it [00:08,  9.15it/s]\n",
            "76it [00:16,  4.52it/s]\n"
          ]
        },
        {
          "output_type": "stream",
          "name": "stdout",
          "text": [
            "epoch 19\n",
            "critic x loss -0.690 critic z loss 0.117 encoder loss 1.299 decoder loss 0.504\n",
            "\n"
          ]
        },
        {
          "output_type": "stream",
          "name": "stderr",
          "text": [
            "76it [00:08,  9.23it/s]\n",
            "76it [00:08,  9.17it/s]\n",
            "76it [00:08,  9.27it/s]\n",
            "76it [00:08,  9.13it/s]\n",
            "76it [00:08,  9.38it/s]\n",
            "76it [00:16,  4.50it/s]\n"
          ]
        },
        {
          "output_type": "stream",
          "name": "stdout",
          "text": [
            "epoch 20\n",
            "critic x loss -0.740 critic z loss 0.102 encoder loss 1.344 decoder loss 0.511\n",
            "\n"
          ]
        },
        {
          "output_type": "stream",
          "name": "stderr",
          "text": [
            "76it [00:08,  9.11it/s]\n",
            "76it [00:08,  9.08it/s]\n",
            "76it [00:08,  9.30it/s]\n",
            "76it [00:08,  9.20it/s]\n",
            "76it [00:08,  9.32it/s]\n",
            "76it [00:16,  4.51it/s]\n"
          ]
        },
        {
          "output_type": "stream",
          "name": "stdout",
          "text": [
            "epoch 21\n",
            "critic x loss -0.787 critic z loss 0.089 encoder loss 1.391 decoder loss 0.520\n",
            "\n"
          ]
        },
        {
          "output_type": "stream",
          "name": "stderr",
          "text": [
            "76it [00:08,  9.27it/s]\n",
            "76it [00:08,  9.20it/s]\n",
            "76it [00:08,  9.16it/s]\n",
            "76it [00:08,  9.20it/s]\n",
            "76it [00:08,  9.09it/s]\n",
            "76it [00:16,  4.51it/s]\n"
          ]
        },
        {
          "output_type": "stream",
          "name": "stdout",
          "text": [
            "epoch 22\n",
            "critic x loss -0.833 critic z loss 0.075 encoder loss 1.432 decoder loss 0.527\n",
            "\n"
          ]
        },
        {
          "output_type": "stream",
          "name": "stderr",
          "text": [
            "76it [00:08,  9.26it/s]\n",
            "76it [00:08,  9.28it/s]\n",
            "76it [00:08,  9.30it/s]\n",
            "76it [00:08,  9.23it/s]\n",
            "76it [00:08,  9.40it/s]\n",
            "76it [00:16,  4.51it/s]\n"
          ]
        },
        {
          "output_type": "stream",
          "name": "stdout",
          "text": [
            "epoch 23\n",
            "critic x loss -0.881 critic z loss 0.063 encoder loss 1.478 decoder loss 0.533\n",
            "\n"
          ]
        },
        {
          "output_type": "stream",
          "name": "stderr",
          "text": [
            "76it [00:08,  9.07it/s]\n",
            "76it [00:08,  9.04it/s]\n",
            "76it [00:08,  9.23it/s]\n",
            "76it [00:08,  9.35it/s]\n",
            "76it [00:08,  9.00it/s]\n",
            "76it [00:16,  4.52it/s]\n"
          ]
        },
        {
          "output_type": "stream",
          "name": "stdout",
          "text": [
            "epoch 24\n",
            "critic x loss -0.930 critic z loss 0.051 encoder loss 1.521 decoder loss 0.545\n",
            "\n"
          ]
        },
        {
          "output_type": "stream",
          "name": "stderr",
          "text": [
            "76it [00:08,  9.22it/s]\n",
            "76it [00:08,  9.02it/s]\n",
            "76it [00:08,  9.20it/s]\n",
            "76it [00:08,  9.19it/s]\n",
            "76it [00:08,  9.06it/s]\n",
            "76it [00:16,  4.53it/s]\n"
          ]
        },
        {
          "output_type": "stream",
          "name": "stdout",
          "text": [
            "epoch 25\n",
            "critic x loss -0.976 critic z loss 0.038 encoder loss 1.567 decoder loss 0.549\n",
            "\n"
          ]
        },
        {
          "output_type": "stream",
          "name": "stderr",
          "text": [
            "76it [00:08,  9.15it/s]\n",
            "76it [00:08,  9.08it/s]\n",
            "76it [00:08,  8.97it/s]\n",
            "76it [00:08,  8.88it/s]\n",
            "76it [00:08,  8.87it/s]\n",
            "76it [00:17,  4.40it/s]\n"
          ]
        },
        {
          "output_type": "stream",
          "name": "stdout",
          "text": [
            "epoch 26\n",
            "critic x loss -1.025 critic z loss 0.029 encoder loss 1.604 decoder loss 0.557\n",
            "\n"
          ]
        },
        {
          "output_type": "stream",
          "name": "stderr",
          "text": [
            "76it [00:08,  9.03it/s]\n",
            "76it [00:08,  9.06it/s]\n",
            "76it [00:08,  9.02it/s]\n",
            "76it [00:08,  9.02it/s]\n",
            "76it [00:08,  9.07it/s]\n",
            "76it [00:16,  4.51it/s]\n"
          ]
        },
        {
          "output_type": "stream",
          "name": "stdout",
          "text": [
            "epoch 27\n",
            "critic x loss -1.070 critic z loss 0.020 encoder loss 1.654 decoder loss 0.566\n",
            "\n"
          ]
        },
        {
          "output_type": "stream",
          "name": "stderr",
          "text": [
            "76it [00:08,  9.03it/s]\n",
            "76it [00:08,  9.10it/s]\n",
            "76it [00:08,  9.19it/s]\n",
            "76it [00:08,  9.07it/s]\n",
            "76it [00:08,  9.16it/s]\n",
            "76it [00:16,  4.51it/s]\n"
          ]
        },
        {
          "output_type": "stream",
          "name": "stdout",
          "text": [
            "epoch 28\n",
            "critic x loss -1.116 critic z loss 0.010 encoder loss 1.693 decoder loss 0.573\n",
            "\n"
          ]
        },
        {
          "output_type": "stream",
          "name": "stderr",
          "text": [
            "76it [00:08,  9.18it/s]\n",
            "76it [00:08,  9.09it/s]\n",
            "76it [00:08,  9.17it/s]\n",
            "76it [00:08,  9.28it/s]\n",
            "76it [00:08,  9.20it/s]\n",
            "76it [00:16,  4.49it/s]\n"
          ]
        },
        {
          "output_type": "stream",
          "name": "stdout",
          "text": [
            "epoch 29\n",
            "critic x loss -1.167 critic z loss 0.001 encoder loss 1.746 decoder loss 0.576\n",
            "\n"
          ]
        },
        {
          "output_type": "stream",
          "name": "stderr",
          "text": [
            "76it [00:08,  9.12it/s]\n",
            "76it [00:08,  9.13it/s]\n",
            "76it [00:08,  9.12it/s]\n",
            "76it [00:08,  9.20it/s]\n",
            "76it [00:08,  9.21it/s]\n",
            "76it [00:16,  4.51it/s]\n"
          ]
        },
        {
          "output_type": "stream",
          "name": "stdout",
          "text": [
            "epoch 30\n",
            "critic x loss -1.211 critic z loss -0.008 encoder loss 1.781 decoder loss 0.582\n",
            "\n"
          ]
        },
        {
          "output_type": "stream",
          "name": "stderr",
          "text": [
            "76it [00:08,  9.09it/s]\n",
            "76it [00:08,  8.97it/s]\n",
            "76it [00:08,  9.10it/s]\n",
            "76it [00:08,  9.20it/s]\n",
            "76it [00:08,  9.03it/s]\n",
            "76it [00:17,  4.44it/s]\n"
          ]
        },
        {
          "output_type": "stream",
          "name": "stdout",
          "text": [
            "epoch 31\n",
            "critic x loss -1.254 critic z loss -0.018 encoder loss 1.835 decoder loss 0.587\n",
            "\n"
          ]
        },
        {
          "output_type": "stream",
          "name": "stderr",
          "text": [
            "76it [00:08,  9.13it/s]\n",
            "76it [00:08,  9.03it/s]\n",
            "76it [00:08,  9.12it/s]\n",
            "76it [00:08,  9.07it/s]\n",
            "76it [00:08,  9.16it/s]\n",
            "76it [00:16,  4.53it/s]\n"
          ]
        },
        {
          "output_type": "stream",
          "name": "stdout",
          "text": [
            "epoch 32\n",
            "critic x loss -1.303 critic z loss -0.029 encoder loss 1.870 decoder loss 0.593\n",
            "\n"
          ]
        },
        {
          "output_type": "stream",
          "name": "stderr",
          "text": [
            "76it [00:08,  9.24it/s]\n",
            "76it [00:08,  9.10it/s]\n",
            "76it [00:08,  9.05it/s]\n",
            "76it [00:08,  9.03it/s]\n",
            "76it [00:08,  9.12it/s]\n",
            "76it [00:16,  4.50it/s]\n"
          ]
        },
        {
          "output_type": "stream",
          "name": "stdout",
          "text": [
            "epoch 33\n",
            "critic x loss -1.349 critic z loss -0.037 encoder loss 1.919 decoder loss 0.606\n",
            "\n"
          ]
        },
        {
          "output_type": "stream",
          "name": "stderr",
          "text": [
            "76it [00:08,  9.04it/s]\n",
            "76it [00:08,  8.99it/s]\n",
            "76it [00:08,  9.09it/s]\n",
            "76it [00:08,  9.07it/s]\n",
            "76it [00:08,  8.99it/s]\n",
            "76it [00:16,  4.49it/s]\n"
          ]
        },
        {
          "output_type": "stream",
          "name": "stdout",
          "text": [
            "epoch 34\n",
            "critic x loss -1.394 critic z loss -0.044 encoder loss 1.962 decoder loss 0.614\n",
            "\n"
          ]
        },
        {
          "output_type": "stream",
          "name": "stderr",
          "text": [
            "76it [00:08,  9.00it/s]\n",
            "76it [00:08,  9.07it/s]\n",
            "76it [00:08,  9.08it/s]\n",
            "76it [00:08,  9.21it/s]\n",
            "76it [00:08,  9.13it/s]\n",
            "76it [00:16,  4.52it/s]\n"
          ]
        },
        {
          "output_type": "stream",
          "name": "stdout",
          "text": [
            "epoch 35\n",
            "critic x loss -1.439 critic z loss -0.052 encoder loss 1.999 decoder loss 0.613\n",
            "\n"
          ]
        },
        {
          "output_type": "stream",
          "name": "stderr",
          "text": [
            "76it [00:08,  9.31it/s]\n",
            "76it [00:08,  9.12it/s]\n",
            "76it [00:08,  9.17it/s]\n",
            "76it [00:08,  9.01it/s]\n",
            "76it [00:08,  9.05it/s]\n",
            "76it [00:17,  4.46it/s]\n"
          ]
        },
        {
          "output_type": "stream",
          "name": "stdout",
          "text": [
            "epoch 36\n",
            "critic x loss -1.485 critic z loss -0.062 encoder loss 2.052 decoder loss 0.621\n",
            "\n"
          ]
        },
        {
          "output_type": "stream",
          "name": "stderr",
          "text": [
            "76it [00:08,  8.97it/s]\n",
            "76it [00:08,  8.84it/s]\n",
            "76it [00:08,  9.07it/s]\n",
            "76it [00:08,  9.18it/s]\n",
            "76it [00:08,  8.96it/s]\n",
            "76it [00:17,  4.43it/s]\n"
          ]
        },
        {
          "output_type": "stream",
          "name": "stdout",
          "text": [
            "epoch 37\n",
            "critic x loss -1.528 critic z loss -0.070 encoder loss 2.095 decoder loss 0.628\n",
            "\n"
          ]
        },
        {
          "output_type": "stream",
          "name": "stderr",
          "text": [
            "76it [00:08,  9.02it/s]\n",
            "76it [00:08,  9.01it/s]\n",
            "76it [00:08,  9.02it/s]\n",
            "76it [00:08,  8.87it/s]\n",
            "76it [00:08,  8.91it/s]\n",
            "76it [00:17,  4.43it/s]\n"
          ]
        },
        {
          "output_type": "stream",
          "name": "stdout",
          "text": [
            "epoch 38\n",
            "critic x loss -1.572 critic z loss -0.078 encoder loss 2.137 decoder loss 0.638\n",
            "\n"
          ]
        },
        {
          "output_type": "stream",
          "name": "stderr",
          "text": [
            "76it [00:08,  9.03it/s]\n",
            "76it [00:08,  8.97it/s]\n",
            "76it [00:08,  9.03it/s]\n",
            "76it [00:08,  9.24it/s]\n",
            "76it [00:08,  9.11it/s]\n",
            "76it [00:16,  4.48it/s]\n"
          ]
        },
        {
          "output_type": "stream",
          "name": "stdout",
          "text": [
            "epoch 39\n",
            "critic x loss -1.623 critic z loss -0.087 encoder loss 2.188 decoder loss 0.640\n",
            "\n"
          ]
        },
        {
          "output_type": "stream",
          "name": "stderr",
          "text": [
            "76it [00:08,  9.11it/s]\n",
            "76it [00:08,  8.96it/s]\n",
            "76it [00:08,  9.25it/s]\n",
            "76it [00:08,  8.97it/s]\n",
            "76it [00:08,  9.00it/s]\n",
            "76it [00:16,  4.53it/s]\n"
          ]
        },
        {
          "output_type": "stream",
          "name": "stdout",
          "text": [
            "epoch 40\n",
            "critic x loss -1.665 critic z loss -0.093 encoder loss 2.233 decoder loss 0.638\n",
            "\n"
          ]
        },
        {
          "output_type": "stream",
          "name": "stderr",
          "text": [
            "76it [00:08,  9.18it/s]\n",
            "76it [00:08,  9.16it/s]\n",
            "76it [00:08,  9.17it/s]\n",
            "76it [00:08,  9.31it/s]\n",
            "76it [00:08,  9.14it/s]\n",
            "76it [00:16,  4.50it/s]\n"
          ]
        },
        {
          "output_type": "stream",
          "name": "stdout",
          "text": [
            "epoch 41\n",
            "critic x loss -1.709 critic z loss -0.101 encoder loss 2.262 decoder loss 0.642\n",
            "\n"
          ]
        },
        {
          "output_type": "stream",
          "name": "stderr",
          "text": [
            "76it [00:08,  9.19it/s]\n",
            "76it [00:08,  9.19it/s]\n",
            "76it [00:08,  9.21it/s]\n",
            "76it [00:08,  9.29it/s]\n",
            "76it [00:08,  8.90it/s]\n",
            "76it [00:16,  4.48it/s]\n"
          ]
        },
        {
          "output_type": "stream",
          "name": "stdout",
          "text": [
            "epoch 42\n",
            "critic x loss -1.749 critic z loss -0.107 encoder loss 2.323 decoder loss 0.652\n",
            "\n"
          ]
        },
        {
          "output_type": "stream",
          "name": "stderr",
          "text": [
            "76it [00:08,  9.30it/s]\n",
            "76it [00:08,  9.26it/s]\n",
            "76it [00:08,  9.40it/s]\n",
            "76it [00:08,  9.24it/s]\n",
            "76it [00:08,  9.09it/s]\n",
            "76it [00:16,  4.51it/s]\n"
          ]
        },
        {
          "output_type": "stream",
          "name": "stdout",
          "text": [
            "epoch 43\n",
            "critic x loss -1.797 critic z loss -0.114 encoder loss 2.351 decoder loss 0.662\n",
            "\n"
          ]
        },
        {
          "output_type": "stream",
          "name": "stderr",
          "text": [
            "76it [00:08,  9.08it/s]\n",
            "76it [00:08,  9.11it/s]\n",
            "76it [00:08,  9.31it/s]\n",
            "76it [00:08,  9.11it/s]\n",
            "76it [00:08,  9.31it/s]\n",
            "76it [00:16,  4.52it/s]\n"
          ]
        },
        {
          "output_type": "stream",
          "name": "stdout",
          "text": [
            "epoch 44\n",
            "critic x loss -1.838 critic z loss -0.118 encoder loss 2.396 decoder loss 0.666\n",
            "\n"
          ]
        },
        {
          "output_type": "stream",
          "name": "stderr",
          "text": [
            "76it [00:08,  9.33it/s]\n",
            "76it [00:08,  9.14it/s]\n",
            "76it [00:08,  9.19it/s]\n",
            "76it [00:08,  9.11it/s]\n",
            "76it [00:08,  9.15it/s]\n",
            "76it [00:16,  4.53it/s]\n"
          ]
        },
        {
          "output_type": "stream",
          "name": "stdout",
          "text": [
            "epoch 45\n",
            "critic x loss -1.883 critic z loss -0.128 encoder loss 2.441 decoder loss 0.667\n",
            "\n"
          ]
        },
        {
          "output_type": "stream",
          "name": "stderr",
          "text": [
            "76it [00:08,  9.40it/s]\n",
            "76it [00:08,  9.08it/s]\n",
            "76it [00:08,  9.25it/s]\n",
            "76it [00:08,  9.19it/s]\n",
            "76it [00:08,  9.21it/s]\n",
            "76it [00:16,  4.50it/s]\n"
          ]
        },
        {
          "output_type": "stream",
          "name": "stdout",
          "text": [
            "epoch 46\n",
            "critic x loss -1.930 critic z loss -0.139 encoder loss 2.486 decoder loss 0.674\n",
            "\n"
          ]
        },
        {
          "output_type": "stream",
          "name": "stderr",
          "text": [
            "76it [00:08,  9.33it/s]\n",
            "76it [00:08,  9.21it/s]\n",
            "76it [00:08,  9.21it/s]\n",
            "76it [00:08,  9.17it/s]\n",
            "76it [00:08,  9.38it/s]\n",
            "76it [00:16,  4.55it/s]\n"
          ]
        },
        {
          "output_type": "stream",
          "name": "stdout",
          "text": [
            "epoch 47\n",
            "critic x loss -1.971 critic z loss -0.145 encoder loss 2.532 decoder loss 0.678\n",
            "\n"
          ]
        },
        {
          "output_type": "stream",
          "name": "stderr",
          "text": [
            "76it [00:08,  9.06it/s]\n",
            "76it [00:08,  8.87it/s]\n",
            "76it [00:08,  9.21it/s]\n",
            "76it [00:08,  9.27it/s]\n",
            "76it [00:08,  9.25it/s]\n",
            "76it [00:16,  4.51it/s]\n"
          ]
        },
        {
          "output_type": "stream",
          "name": "stdout",
          "text": [
            "epoch 48\n",
            "critic x loss -2.014 critic z loss -0.150 encoder loss 2.572 decoder loss 0.687\n",
            "\n"
          ]
        },
        {
          "output_type": "stream",
          "name": "stderr",
          "text": [
            "76it [00:08,  9.20it/s]\n",
            "76it [00:08,  9.26it/s]\n",
            "76it [00:08,  9.14it/s]\n",
            "76it [00:08,  9.20it/s]\n",
            "76it [00:08,  9.09it/s]\n",
            "76it [00:16,  4.49it/s]\n"
          ]
        },
        {
          "output_type": "stream",
          "name": "stdout",
          "text": [
            "epoch 49\n",
            "critic x loss -2.063 critic z loss -0.157 encoder loss 2.613 decoder loss 0.687\n",
            "\n"
          ]
        },
        {
          "output_type": "stream",
          "name": "stderr",
          "text": [
            "76it [00:08,  9.08it/s]\n",
            "76it [00:08,  9.13it/s]\n",
            "76it [00:08,  9.13it/s]\n",
            "76it [00:08,  9.19it/s]\n",
            "76it [00:08,  9.31it/s]\n",
            "76it [00:16,  4.51it/s]\n"
          ]
        },
        {
          "output_type": "stream",
          "name": "stdout",
          "text": [
            "epoch 50\n",
            "critic x loss -2.105 critic z loss -0.161 encoder loss 2.654 decoder loss 0.691\n",
            "\n"
          ]
        },
        {
          "output_type": "stream",
          "name": "stderr",
          "text": [
            "76it [00:08,  9.08it/s]\n",
            "76it [00:08,  9.07it/s]\n",
            "76it [00:08,  9.14it/s]\n",
            "76it [00:08,  9.33it/s]\n",
            "76it [00:08,  9.00it/s]\n",
            "76it [00:16,  4.53it/s]\n"
          ]
        },
        {
          "output_type": "stream",
          "name": "stdout",
          "text": [
            "epoch 51\n",
            "critic x loss -2.144 critic z loss -0.170 encoder loss 2.697 decoder loss 0.704\n",
            "\n"
          ]
        },
        {
          "output_type": "stream",
          "name": "stderr",
          "text": [
            "76it [00:08,  9.08it/s]\n",
            "76it [00:08,  9.05it/s]\n",
            "76it [00:08,  8.96it/s]\n",
            "76it [00:08,  8.96it/s]\n",
            "76it [00:08,  9.15it/s]\n",
            "76it [00:17,  4.47it/s]\n"
          ]
        },
        {
          "output_type": "stream",
          "name": "stdout",
          "text": [
            "epoch 52\n",
            "critic x loss -2.193 critic z loss -0.177 encoder loss 2.731 decoder loss 0.700\n",
            "\n"
          ]
        },
        {
          "output_type": "stream",
          "name": "stderr",
          "text": [
            "76it [00:08,  9.04it/s]\n",
            "76it [00:08,  9.12it/s]\n",
            "76it [00:08,  9.04it/s]\n",
            "76it [00:08,  9.11it/s]\n",
            "76it [00:08,  8.96it/s]\n",
            "76it [00:17,  4.45it/s]\n"
          ]
        },
        {
          "output_type": "stream",
          "name": "stdout",
          "text": [
            "epoch 53\n",
            "critic x loss -2.230 critic z loss -0.183 encoder loss 2.783 decoder loss 0.710\n",
            "\n"
          ]
        },
        {
          "output_type": "stream",
          "name": "stderr",
          "text": [
            "76it [00:08,  9.13it/s]\n",
            "76it [00:08,  9.16it/s]\n",
            "76it [00:08,  9.13it/s]\n",
            "76it [00:08,  9.19it/s]\n",
            "76it [00:08,  9.06it/s]\n",
            "76it [00:16,  4.49it/s]\n"
          ]
        },
        {
          "output_type": "stream",
          "name": "stdout",
          "text": [
            "epoch 54\n",
            "critic x loss -2.270 critic z loss -0.187 encoder loss 2.830 decoder loss 0.711\n",
            "\n"
          ]
        },
        {
          "output_type": "stream",
          "name": "stderr",
          "text": [
            "76it [00:08,  8.95it/s]\n",
            "76it [00:08,  9.17it/s]\n",
            "76it [00:08,  9.14it/s]\n",
            "76it [00:08,  9.09it/s]\n",
            "76it [00:08,  9.25it/s]\n",
            "76it [00:16,  4.50it/s]\n"
          ]
        },
        {
          "output_type": "stream",
          "name": "stdout",
          "text": [
            "epoch 55\n",
            "critic x loss -2.316 critic z loss -0.193 encoder loss 2.853 decoder loss 0.712\n",
            "\n"
          ]
        },
        {
          "output_type": "stream",
          "name": "stderr",
          "text": [
            "76it [00:08,  9.05it/s]\n",
            "76it [00:08,  8.98it/s]\n",
            "76it [00:08,  9.01it/s]\n",
            "76it [00:08,  9.06it/s]\n",
            "76it [00:08,  9.09it/s]\n",
            "76it [00:16,  4.52it/s]\n"
          ]
        },
        {
          "output_type": "stream",
          "name": "stdout",
          "text": [
            "epoch 56\n",
            "critic x loss -2.357 critic z loss -0.198 encoder loss 2.909 decoder loss 0.723\n",
            "\n"
          ]
        },
        {
          "output_type": "stream",
          "name": "stderr",
          "text": [
            "76it [00:08,  9.01it/s]\n",
            "76it [00:08,  9.07it/s]\n",
            "76it [00:08,  8.92it/s]\n",
            "76it [00:08,  9.04it/s]\n",
            "76it [00:08,  9.03it/s]\n",
            "76it [00:17,  4.46it/s]\n"
          ]
        },
        {
          "output_type": "stream",
          "name": "stdout",
          "text": [
            "epoch 57\n",
            "critic x loss -2.399 critic z loss -0.207 encoder loss 2.951 decoder loss 0.726\n",
            "\n"
          ]
        },
        {
          "output_type": "stream",
          "name": "stderr",
          "text": [
            "76it [00:08,  8.85it/s]\n",
            "76it [00:08,  9.10it/s]\n",
            "76it [00:08,  8.95it/s]\n",
            "76it [00:08,  9.09it/s]\n",
            "76it [00:08,  8.91it/s]\n",
            "76it [00:17,  4.46it/s]\n"
          ]
        },
        {
          "output_type": "stream",
          "name": "stdout",
          "text": [
            "epoch 58\n",
            "critic x loss -2.440 critic z loss -0.212 encoder loss 2.981 decoder loss 0.729\n",
            "\n"
          ]
        },
        {
          "output_type": "stream",
          "name": "stderr",
          "text": [
            "76it [00:08,  8.88it/s]\n",
            "76it [00:08,  8.88it/s]\n",
            "76it [00:08,  8.94it/s]\n",
            "76it [00:08,  9.01it/s]\n",
            "76it [00:08,  9.12it/s]\n",
            "76it [00:17,  4.42it/s]\n"
          ]
        },
        {
          "output_type": "stream",
          "name": "stdout",
          "text": [
            "epoch 59\n",
            "critic x loss -2.486 critic z loss -0.219 encoder loss 3.020 decoder loss 0.734\n",
            "\n"
          ]
        },
        {
          "output_type": "stream",
          "name": "stderr",
          "text": [
            "76it [00:08,  8.95it/s]\n",
            "76it [00:08,  9.07it/s]\n",
            "76it [00:08,  8.90it/s]\n",
            "76it [00:08,  9.00it/s]\n",
            "76it [00:08,  8.86it/s]\n",
            "76it [00:17,  4.43it/s]\n"
          ]
        },
        {
          "output_type": "stream",
          "name": "stdout",
          "text": [
            "epoch 60\n",
            "critic x loss -2.529 critic z loss -0.222 encoder loss 3.058 decoder loss 0.741\n",
            "\n"
          ]
        },
        {
          "output_type": "stream",
          "name": "stderr",
          "text": [
            "76it [00:08,  8.96it/s]\n",
            "76it [00:08,  8.99it/s]\n",
            "76it [00:08,  9.08it/s]\n",
            "76it [00:08,  9.08it/s]\n",
            "76it [00:08,  8.99it/s]\n",
            "76it [00:16,  4.47it/s]\n"
          ]
        },
        {
          "output_type": "stream",
          "name": "stdout",
          "text": [
            "epoch 61\n",
            "critic x loss -2.570 critic z loss -0.228 encoder loss 3.102 decoder loss 0.745\n",
            "\n"
          ]
        },
        {
          "output_type": "stream",
          "name": "stderr",
          "text": [
            "76it [00:08,  9.11it/s]\n",
            "76it [00:08,  9.09it/s]\n",
            "76it [00:08,  8.92it/s]\n",
            "76it [00:08,  9.02it/s]\n",
            "76it [00:08,  9.01it/s]\n",
            "76it [00:17,  4.46it/s]\n"
          ]
        },
        {
          "output_type": "stream",
          "name": "stdout",
          "text": [
            "epoch 62\n",
            "critic x loss -2.607 critic z loss -0.235 encoder loss 3.144 decoder loss 0.744\n",
            "\n"
          ]
        },
        {
          "output_type": "stream",
          "name": "stderr",
          "text": [
            "76it [00:08,  9.06it/s]\n",
            "76it [00:08,  9.01it/s]\n",
            "76it [00:08,  9.00it/s]\n",
            "76it [00:08,  9.22it/s]\n",
            "76it [00:08,  8.88it/s]\n",
            "76it [00:17,  4.45it/s]\n"
          ]
        },
        {
          "output_type": "stream",
          "name": "stdout",
          "text": [
            "epoch 63\n",
            "critic x loss -2.647 critic z loss -0.241 encoder loss 3.189 decoder loss 0.748\n",
            "\n"
          ]
        },
        {
          "output_type": "stream",
          "name": "stderr",
          "text": [
            "76it [00:08,  9.17it/s]\n",
            "76it [00:08,  9.12it/s]\n",
            "76it [00:08,  8.97it/s]\n",
            "76it [00:08,  8.86it/s]\n",
            "76it [00:08,  8.98it/s]\n",
            "76it [00:17,  4.44it/s]\n"
          ]
        },
        {
          "output_type": "stream",
          "name": "stdout",
          "text": [
            "epoch 64\n",
            "critic x loss -2.695 critic z loss -0.245 encoder loss 3.245 decoder loss 0.755\n",
            "\n"
          ]
        },
        {
          "output_type": "stream",
          "name": "stderr",
          "text": [
            "76it [00:08,  9.03it/s]\n",
            "76it [00:08,  9.00it/s]\n",
            "76it [00:08,  9.03it/s]\n",
            "76it [00:08,  9.00it/s]\n",
            "76it [00:08,  9.05it/s]\n",
            "76it [00:16,  4.48it/s]\n"
          ]
        },
        {
          "output_type": "stream",
          "name": "stdout",
          "text": [
            "epoch 65\n",
            "critic x loss -2.738 critic z loss -0.250 encoder loss 3.285 decoder loss 0.761\n",
            "\n"
          ]
        },
        {
          "output_type": "stream",
          "name": "stderr",
          "text": [
            "76it [00:08,  9.04it/s]\n",
            "76it [00:08,  9.08it/s]\n",
            "76it [00:08,  9.20it/s]\n",
            "76it [00:08,  9.13it/s]\n",
            "76it [00:08,  8.98it/s]\n",
            "76it [00:16,  4.48it/s]\n"
          ]
        },
        {
          "output_type": "stream",
          "name": "stdout",
          "text": [
            "epoch 66\n",
            "critic x loss -2.773 critic z loss -0.258 encoder loss 3.332 decoder loss 0.758\n",
            "\n"
          ]
        },
        {
          "output_type": "stream",
          "name": "stderr",
          "text": [
            "76it [00:08,  9.02it/s]\n",
            "76it [00:08,  9.09it/s]\n",
            "76it [00:08,  9.03it/s]\n",
            "76it [00:08,  8.90it/s]\n",
            "76it [00:08,  8.98it/s]\n",
            "76it [00:17,  4.46it/s]\n"
          ]
        },
        {
          "output_type": "stream",
          "name": "stdout",
          "text": [
            "epoch 67\n",
            "critic x loss -2.817 critic z loss -0.263 encoder loss 3.366 decoder loss 0.770\n",
            "\n"
          ]
        },
        {
          "output_type": "stream",
          "name": "stderr",
          "text": [
            "76it [00:08,  9.08it/s]\n",
            "76it [00:08,  9.05it/s]\n",
            "76it [00:08,  9.16it/s]\n",
            "76it [00:08,  9.01it/s]\n",
            "76it [00:08,  9.02it/s]\n",
            "76it [00:16,  4.48it/s]\n"
          ]
        },
        {
          "output_type": "stream",
          "name": "stdout",
          "text": [
            "epoch 68\n",
            "critic x loss -2.853 critic z loss -0.268 encoder loss 3.395 decoder loss 0.769\n",
            "\n"
          ]
        },
        {
          "output_type": "stream",
          "name": "stderr",
          "text": [
            "76it [00:08,  9.08it/s]\n",
            "76it [00:08,  9.12it/s]\n",
            "76it [00:08,  9.05it/s]\n",
            "76it [00:08,  9.06it/s]\n",
            "76it [00:08,  9.04it/s]\n",
            "76it [00:17,  4.43it/s]\n"
          ]
        },
        {
          "output_type": "stream",
          "name": "stdout",
          "text": [
            "epoch 69\n",
            "critic x loss -2.897 critic z loss -0.273 encoder loss 3.429 decoder loss 0.772\n",
            "\n"
          ]
        },
        {
          "output_type": "stream",
          "name": "stderr",
          "text": [
            "76it [00:08,  9.10it/s]\n",
            "76it [00:08,  9.09it/s]\n",
            "76it [00:08,  9.01it/s]\n",
            "76it [00:08,  9.10it/s]\n",
            "76it [00:08,  9.13it/s]\n",
            "76it [00:16,  4.51it/s]\n"
          ]
        },
        {
          "output_type": "stream",
          "name": "stdout",
          "text": [
            "epoch 70\n",
            "critic x loss -2.940 critic z loss -0.275 encoder loss 3.491 decoder loss 0.776\n",
            "\n"
          ]
        },
        {
          "output_type": "stream",
          "name": "stderr",
          "text": [
            "76it [00:08,  9.21it/s]\n",
            "76it [00:08,  9.16it/s]\n",
            "76it [00:08,  9.09it/s]\n",
            "76it [00:08,  8.96it/s]\n",
            "76it [00:08,  9.06it/s]\n",
            "76it [00:16,  4.51it/s]\n"
          ]
        },
        {
          "output_type": "stream",
          "name": "stdout",
          "text": [
            "epoch 71\n",
            "critic x loss -2.977 critic z loss -0.285 encoder loss 3.523 decoder loss 0.782\n",
            "\n"
          ]
        },
        {
          "output_type": "stream",
          "name": "stderr",
          "text": [
            "76it [00:08,  9.05it/s]\n",
            "76it [00:08,  9.05it/s]\n",
            "76it [00:08,  9.21it/s]\n",
            "76it [00:08,  8.94it/s]\n",
            "76it [00:08,  9.12it/s]\n",
            "76it [00:17,  4.45it/s]\n"
          ]
        },
        {
          "output_type": "stream",
          "name": "stdout",
          "text": [
            "epoch 72\n",
            "critic x loss -3.021 critic z loss -0.290 encoder loss 3.573 decoder loss 0.784\n",
            "\n"
          ]
        },
        {
          "output_type": "stream",
          "name": "stderr",
          "text": [
            "76it [00:08,  9.14it/s]\n",
            "76it [00:08,  9.24it/s]\n",
            "76it [00:08,  9.33it/s]\n",
            "76it [00:08,  8.99it/s]\n",
            "76it [00:08,  9.19it/s]\n",
            "76it [00:16,  4.52it/s]\n"
          ]
        },
        {
          "output_type": "stream",
          "name": "stdout",
          "text": [
            "epoch 73\n",
            "critic x loss -3.061 critic z loss -0.294 encoder loss 3.593 decoder loss 0.786\n",
            "\n"
          ]
        },
        {
          "output_type": "stream",
          "name": "stderr",
          "text": [
            "76it [00:08,  9.14it/s]\n",
            "76it [00:08,  9.04it/s]\n",
            "76it [00:08,  9.16it/s]\n",
            "76it [00:08,  9.05it/s]\n",
            "76it [00:08,  9.09it/s]\n",
            "76it [00:16,  4.52it/s]\n"
          ]
        },
        {
          "output_type": "stream",
          "name": "stdout",
          "text": [
            "epoch 74\n",
            "critic x loss -3.102 critic z loss -0.296 encoder loss 3.636 decoder loss 0.790\n",
            "\n"
          ]
        },
        {
          "output_type": "stream",
          "name": "stderr",
          "text": [
            "76it [00:08,  9.11it/s]\n",
            "76it [00:08,  8.96it/s]\n",
            "76it [00:08,  9.23it/s]\n",
            "76it [00:08,  9.23it/s]\n",
            "76it [00:08,  9.17it/s]\n",
            "76it [00:16,  4.52it/s]\n"
          ]
        },
        {
          "output_type": "stream",
          "name": "stdout",
          "text": [
            "epoch 75\n",
            "critic x loss -3.145 critic z loss -0.304 encoder loss 3.679 decoder loss 0.796\n",
            "\n"
          ]
        },
        {
          "output_type": "stream",
          "name": "stderr",
          "text": [
            "76it [00:08,  9.06it/s]\n",
            "76it [00:08,  9.13it/s]\n",
            "76it [00:08,  9.21it/s]\n",
            "76it [00:08,  9.03it/s]\n",
            "76it [00:08,  9.07it/s]\n",
            "76it [00:16,  4.53it/s]\n"
          ]
        },
        {
          "output_type": "stream",
          "name": "stdout",
          "text": [
            "epoch 76\n",
            "critic x loss -3.179 critic z loss -0.306 encoder loss 3.723 decoder loss 0.798\n",
            "\n"
          ]
        },
        {
          "output_type": "stream",
          "name": "stderr",
          "text": [
            "76it [00:08,  9.09it/s]\n",
            "76it [00:08,  9.03it/s]\n",
            "76it [00:08,  9.15it/s]\n",
            "76it [00:08,  9.11it/s]\n",
            "76it [00:08,  8.93it/s]\n",
            "76it [00:17,  4.44it/s]\n"
          ]
        },
        {
          "output_type": "stream",
          "name": "stdout",
          "text": [
            "epoch 77\n",
            "critic x loss -3.219 critic z loss -0.315 encoder loss 3.778 decoder loss 0.804\n",
            "\n"
          ]
        },
        {
          "output_type": "stream",
          "name": "stderr",
          "text": [
            "76it [00:08,  9.05it/s]\n",
            "76it [00:08,  9.02it/s]\n",
            "76it [00:08,  9.04it/s]\n",
            "76it [00:08,  8.95it/s]\n",
            "76it [00:08,  8.95it/s]\n",
            "76it [00:16,  4.51it/s]\n"
          ]
        },
        {
          "output_type": "stream",
          "name": "stdout",
          "text": [
            "epoch 78\n",
            "critic x loss -3.267 critic z loss -0.315 encoder loss 3.795 decoder loss 0.804\n",
            "\n"
          ]
        },
        {
          "output_type": "stream",
          "name": "stderr",
          "text": [
            "76it [00:08,  9.00it/s]\n",
            "76it [00:08,  9.00it/s]\n",
            "76it [00:08,  8.92it/s]\n",
            "76it [00:08,  8.99it/s]\n",
            "76it [00:08,  9.02it/s]\n",
            "76it [00:16,  4.48it/s]\n"
          ]
        },
        {
          "output_type": "stream",
          "name": "stdout",
          "text": [
            "epoch 79\n",
            "critic x loss -3.304 critic z loss -0.323 encoder loss 3.837 decoder loss 0.808\n",
            "\n"
          ]
        },
        {
          "output_type": "stream",
          "name": "stderr",
          "text": [
            "76it [00:08,  9.12it/s]\n",
            "76it [00:08,  9.17it/s]\n",
            "76it [00:08,  8.98it/s]\n",
            "76it [00:08,  8.88it/s]\n",
            "76it [00:08,  8.95it/s]\n",
            "76it [00:16,  4.48it/s]\n"
          ]
        },
        {
          "output_type": "stream",
          "name": "stdout",
          "text": [
            "epoch 80\n",
            "critic x loss -3.339 critic z loss -0.327 encoder loss 3.880 decoder loss 0.813\n",
            "\n"
          ]
        },
        {
          "output_type": "stream",
          "name": "stderr",
          "text": [
            "76it [00:08,  9.04it/s]\n",
            "76it [00:08,  9.10it/s]\n",
            "76it [00:08,  9.27it/s]\n",
            "76it [00:08,  9.12it/s]\n",
            "76it [00:08,  9.08it/s]\n",
            "76it [00:16,  4.48it/s]\n"
          ]
        },
        {
          "output_type": "stream",
          "name": "stdout",
          "text": [
            "epoch 81\n",
            "critic x loss -3.386 critic z loss -0.330 encoder loss 3.911 decoder loss 0.815\n",
            "\n"
          ]
        },
        {
          "output_type": "stream",
          "name": "stderr",
          "text": [
            "76it [00:08,  9.21it/s]\n",
            "76it [00:08,  9.20it/s]\n",
            "76it [00:08,  8.85it/s]\n",
            "76it [00:08,  8.97it/s]\n",
            "76it [00:08,  9.00it/s]\n",
            "76it [00:17,  4.43it/s]\n"
          ]
        },
        {
          "output_type": "stream",
          "name": "stdout",
          "text": [
            "epoch 82\n",
            "critic x loss -3.419 critic z loss -0.335 encoder loss 3.975 decoder loss 0.820\n",
            "\n"
          ]
        },
        {
          "output_type": "stream",
          "name": "stderr",
          "text": [
            "76it [00:08,  8.82it/s]\n",
            "76it [00:08,  9.00it/s]\n",
            "76it [00:08,  8.99it/s]\n",
            "76it [00:08,  9.03it/s]\n",
            "76it [00:08,  8.85it/s]\n",
            "76it [00:17,  4.45it/s]\n"
          ]
        },
        {
          "output_type": "stream",
          "name": "stdout",
          "text": [
            "epoch 83\n",
            "critic x loss -3.460 critic z loss -0.344 encoder loss 3.991 decoder loss 0.829\n",
            "\n"
          ]
        },
        {
          "output_type": "stream",
          "name": "stderr",
          "text": [
            "76it [00:08,  8.96it/s]\n",
            "76it [00:08,  8.96it/s]\n",
            "76it [00:08,  9.16it/s]\n",
            "76it [00:08,  9.01it/s]\n",
            "76it [00:08,  8.91it/s]\n",
            "76it [00:16,  4.49it/s]\n"
          ]
        },
        {
          "output_type": "stream",
          "name": "stdout",
          "text": [
            "epoch 84\n",
            "critic x loss -3.498 critic z loss -0.347 encoder loss 4.045 decoder loss 0.830\n",
            "\n"
          ]
        },
        {
          "output_type": "stream",
          "name": "stderr",
          "text": [
            "76it [00:08,  9.02it/s]\n",
            "76it [00:08,  8.87it/s]\n",
            "76it [00:08,  9.03it/s]\n",
            "76it [00:08,  9.12it/s]\n",
            "76it [00:08,  9.00it/s]\n",
            "76it [00:17,  4.40it/s]\n"
          ]
        },
        {
          "output_type": "stream",
          "name": "stdout",
          "text": [
            "epoch 85\n",
            "critic x loss -3.539 critic z loss -0.351 encoder loss 4.062 decoder loss 0.827\n",
            "\n"
          ]
        },
        {
          "output_type": "stream",
          "name": "stderr",
          "text": [
            "76it [00:08,  8.92it/s]\n",
            "76it [00:08,  8.96it/s]\n",
            "76it [00:08,  9.06it/s]\n",
            "76it [00:08,  8.87it/s]\n",
            "76it [00:08,  8.95it/s]\n",
            "76it [00:16,  4.50it/s]\n"
          ]
        },
        {
          "output_type": "stream",
          "name": "stdout",
          "text": [
            "epoch 86\n",
            "critic x loss -3.575 critic z loss -0.357 encoder loss 4.115 decoder loss 0.833\n",
            "\n"
          ]
        },
        {
          "output_type": "stream",
          "name": "stderr",
          "text": [
            "76it [00:08,  8.93it/s]\n",
            "76it [00:08,  9.11it/s]\n",
            "76it [00:08,  9.12it/s]\n",
            "76it [00:08,  9.03it/s]\n",
            "76it [00:08,  8.86it/s]\n",
            "76it [00:17,  4.43it/s]\n"
          ]
        },
        {
          "output_type": "stream",
          "name": "stdout",
          "text": [
            "epoch 87\n",
            "critic x loss -3.617 critic z loss -0.359 encoder loss 4.162 decoder loss 0.838\n",
            "\n"
          ]
        },
        {
          "output_type": "stream",
          "name": "stderr",
          "text": [
            "76it [00:08,  8.95it/s]\n",
            "76it [00:08,  8.99it/s]\n",
            "76it [00:08,  9.03it/s]\n",
            "76it [00:08,  9.03it/s]\n",
            "76it [00:08,  9.09it/s]\n",
            "76it [00:17,  4.46it/s]\n"
          ]
        },
        {
          "output_type": "stream",
          "name": "stdout",
          "text": [
            "epoch 88\n",
            "critic x loss -3.654 critic z loss -0.366 encoder loss 4.193 decoder loss 0.838\n",
            "\n"
          ]
        },
        {
          "output_type": "stream",
          "name": "stderr",
          "text": [
            "76it [00:08,  9.01it/s]\n",
            "76it [00:08,  9.16it/s]\n",
            "76it [00:08,  8.91it/s]\n",
            "76it [00:08,  9.04it/s]\n",
            "76it [00:08,  9.05it/s]\n",
            "76it [00:17,  4.44it/s]\n"
          ]
        },
        {
          "output_type": "stream",
          "name": "stdout",
          "text": [
            "epoch 89\n",
            "critic x loss -3.688 critic z loss -0.370 encoder loss 4.233 decoder loss 0.846\n",
            "\n"
          ]
        },
        {
          "output_type": "stream",
          "name": "stderr",
          "text": [
            "76it [00:08,  9.11it/s]\n",
            "76it [00:08,  9.07it/s]\n",
            "76it [00:08,  9.02it/s]\n",
            "76it [00:08,  8.93it/s]\n",
            "76it [00:08,  9.16it/s]\n",
            "76it [00:16,  4.48it/s]\n"
          ]
        },
        {
          "output_type": "stream",
          "name": "stdout",
          "text": [
            "epoch 90\n",
            "critic x loss -3.721 critic z loss -0.379 encoder loss 4.271 decoder loss 0.849\n",
            "\n"
          ]
        },
        {
          "output_type": "stream",
          "name": "stderr",
          "text": [
            "76it [00:08,  9.10it/s]\n",
            "76it [00:08,  9.03it/s]\n",
            "76it [00:08,  8.87it/s]\n",
            "76it [00:08,  8.90it/s]\n",
            "76it [00:08,  9.03it/s]\n",
            "76it [00:16,  4.48it/s]\n"
          ]
        },
        {
          "output_type": "stream",
          "name": "stdout",
          "text": [
            "epoch 91\n",
            "critic x loss -3.767 critic z loss -0.381 encoder loss 4.303 decoder loss 0.851\n",
            "\n"
          ]
        },
        {
          "output_type": "stream",
          "name": "stderr",
          "text": [
            "76it [00:08,  9.03it/s]\n",
            "76it [00:08,  9.14it/s]\n",
            "76it [00:08,  9.19it/s]\n",
            "76it [00:08,  8.94it/s]\n",
            "76it [00:08,  8.93it/s]\n",
            "76it [00:17,  4.46it/s]\n"
          ]
        },
        {
          "output_type": "stream",
          "name": "stdout",
          "text": [
            "epoch 92\n",
            "critic x loss -3.797 critic z loss -0.387 encoder loss 4.347 decoder loss 0.855\n",
            "\n"
          ]
        },
        {
          "output_type": "stream",
          "name": "stderr",
          "text": [
            "76it [00:08,  9.23it/s]\n",
            "76it [00:08,  9.04it/s]\n",
            "76it [00:08,  9.24it/s]\n",
            "76it [00:08,  9.22it/s]\n",
            "76it [00:08,  9.10it/s]\n",
            "76it [00:16,  4.52it/s]\n"
          ]
        },
        {
          "output_type": "stream",
          "name": "stdout",
          "text": [
            "epoch 93\n",
            "critic x loss -3.842 critic z loss -0.388 encoder loss 4.379 decoder loss 0.852\n",
            "\n"
          ]
        },
        {
          "output_type": "stream",
          "name": "stderr",
          "text": [
            "76it [00:08,  9.14it/s]\n",
            "76it [00:08,  9.06it/s]\n",
            "76it [00:08,  8.94it/s]\n",
            "76it [00:08,  8.88it/s]\n",
            "76it [00:08,  8.98it/s]\n",
            "76it [00:16,  4.52it/s]\n"
          ]
        },
        {
          "output_type": "stream",
          "name": "stdout",
          "text": [
            "epoch 94\n",
            "critic x loss -3.879 critic z loss -0.390 encoder loss 4.418 decoder loss 0.861\n",
            "\n"
          ]
        },
        {
          "output_type": "stream",
          "name": "stderr",
          "text": [
            "76it [00:08,  8.99it/s]\n",
            "76it [00:08,  9.00it/s]\n",
            "76it [00:08,  9.03it/s]\n",
            "76it [00:08,  8.88it/s]\n",
            "76it [00:08,  9.02it/s]\n",
            "76it [00:17,  4.41it/s]\n"
          ]
        },
        {
          "output_type": "stream",
          "name": "stdout",
          "text": [
            "epoch 95\n",
            "critic x loss -3.918 critic z loss -0.394 encoder loss 4.457 decoder loss 0.857\n",
            "\n"
          ]
        },
        {
          "output_type": "stream",
          "name": "stderr",
          "text": [
            "76it [00:08,  9.09it/s]\n",
            "76it [00:08,  9.02it/s]\n",
            "76it [00:08,  9.00it/s]\n",
            "76it [00:08,  9.12it/s]\n",
            "76it [00:08,  8.99it/s]\n",
            "76it [00:17,  4.45it/s]\n"
          ]
        },
        {
          "output_type": "stream",
          "name": "stdout",
          "text": [
            "epoch 96\n",
            "critic x loss -3.957 critic z loss -0.398 encoder loss 4.472 decoder loss 0.865\n",
            "\n"
          ]
        },
        {
          "output_type": "stream",
          "name": "stderr",
          "text": [
            "76it [00:08,  8.92it/s]\n",
            "76it [00:08,  8.99it/s]\n",
            "76it [00:08,  9.01it/s]\n",
            "76it [00:08,  9.07it/s]\n",
            "76it [00:08,  9.02it/s]\n",
            "76it [00:17,  4.46it/s]\n"
          ]
        },
        {
          "output_type": "stream",
          "name": "stdout",
          "text": [
            "epoch 97\n",
            "critic x loss -3.995 critic z loss -0.404 encoder loss 4.545 decoder loss 0.862\n",
            "\n"
          ]
        },
        {
          "output_type": "stream",
          "name": "stderr",
          "text": [
            "76it [00:08,  8.90it/s]\n",
            "76it [00:08,  9.10it/s]\n",
            "76it [00:08,  9.12it/s]\n",
            "76it [00:08,  9.25it/s]\n",
            "76it [00:08,  9.07it/s]\n",
            "76it [00:17,  4.45it/s]\n"
          ]
        },
        {
          "output_type": "stream",
          "name": "stdout",
          "text": [
            "epoch 98\n",
            "critic x loss -4.022 critic z loss -0.405 encoder loss 4.559 decoder loss 0.867\n",
            "\n"
          ]
        },
        {
          "output_type": "stream",
          "name": "stderr",
          "text": [
            "76it [00:08,  9.08it/s]\n",
            "76it [00:08,  8.96it/s]\n",
            "76it [00:08,  9.03it/s]\n",
            "76it [00:08,  9.04it/s]\n",
            "76it [00:08,  8.91it/s]\n",
            "76it [00:17,  4.47it/s]\n"
          ]
        },
        {
          "output_type": "stream",
          "name": "stdout",
          "text": [
            "epoch 99\n",
            "critic x loss -4.066 critic z loss -0.410 encoder loss 4.601 decoder loss 0.872\n",
            "\n"
          ]
        },
        {
          "output_type": "stream",
          "name": "stderr",
          "text": [
            "76it [00:08,  8.98it/s]\n",
            "76it [00:08,  9.00it/s]\n",
            "76it [00:08,  9.06it/s]\n",
            "76it [00:08,  9.03it/s]\n",
            "76it [00:08,  8.98it/s]\n",
            "76it [00:16,  4.49it/s]\n"
          ]
        },
        {
          "output_type": "stream",
          "name": "stdout",
          "text": [
            "epoch 100\n",
            "critic x loss -4.101 critic z loss -0.417 encoder loss 4.623 decoder loss 0.880\n",
            "\n"
          ]
        },
        {
          "output_type": "stream",
          "name": "stderr",
          "text": [
            "76it [00:08,  9.19it/s]\n",
            "76it [00:08,  9.13it/s]\n",
            "76it [00:08,  9.10it/s]\n",
            "76it [00:08,  9.11it/s]\n",
            "76it [00:08,  9.08it/s]\n",
            "76it [00:16,  4.47it/s]\n"
          ]
        },
        {
          "output_type": "stream",
          "name": "stdout",
          "text": [
            "epoch 101\n",
            "critic x loss -4.132 critic z loss -0.421 encoder loss 4.658 decoder loss 0.878\n",
            "\n"
          ]
        },
        {
          "output_type": "stream",
          "name": "stderr",
          "text": [
            "76it [00:08,  9.01it/s]\n",
            "76it [00:08,  9.09it/s]\n",
            "76it [00:08,  8.98it/s]\n",
            "76it [00:08,  8.91it/s]\n",
            "76it [00:08,  9.08it/s]\n",
            "76it [00:17,  4.44it/s]\n"
          ]
        },
        {
          "output_type": "stream",
          "name": "stdout",
          "text": [
            "epoch 102\n",
            "critic x loss -4.171 critic z loss -0.422 encoder loss 4.715 decoder loss 0.882\n",
            "\n"
          ]
        },
        {
          "output_type": "stream",
          "name": "stderr",
          "text": [
            "76it [00:08,  8.99it/s]\n",
            "76it [00:08,  8.89it/s]\n",
            "76it [00:08,  8.91it/s]\n",
            "76it [00:08,  8.97it/s]\n",
            "76it [00:08,  8.95it/s]\n",
            "76it [00:17,  4.47it/s]\n"
          ]
        },
        {
          "output_type": "stream",
          "name": "stdout",
          "text": [
            "epoch 103\n",
            "critic x loss -4.201 critic z loss -0.428 encoder loss 4.757 decoder loss 0.887\n",
            "\n"
          ]
        },
        {
          "output_type": "stream",
          "name": "stderr",
          "text": [
            "76it [00:08,  8.92it/s]\n",
            "76it [00:08,  8.93it/s]\n",
            "76it [00:08,  9.03it/s]\n",
            "76it [00:08,  8.92it/s]\n",
            "76it [00:08,  8.92it/s]\n",
            "76it [00:17,  4.47it/s]\n"
          ]
        },
        {
          "output_type": "stream",
          "name": "stdout",
          "text": [
            "epoch 104\n",
            "critic x loss -4.235 critic z loss -0.432 encoder loss 4.787 decoder loss 0.889\n",
            "\n"
          ]
        },
        {
          "output_type": "stream",
          "name": "stderr",
          "text": [
            "76it [00:08,  8.85it/s]\n",
            "76it [00:08,  8.99it/s]\n",
            "76it [00:08,  9.07it/s]\n",
            "76it [00:08,  9.03it/s]\n",
            "76it [00:08,  8.92it/s]\n",
            "76it [00:17,  4.44it/s]\n"
          ]
        },
        {
          "output_type": "stream",
          "name": "stdout",
          "text": [
            "epoch 105\n",
            "critic x loss -4.284 critic z loss -0.435 encoder loss 4.826 decoder loss 0.889\n",
            "\n"
          ]
        },
        {
          "output_type": "stream",
          "name": "stderr",
          "text": [
            "76it [00:08,  8.98it/s]\n",
            "76it [00:08,  9.14it/s]\n",
            "76it [00:08,  9.15it/s]\n",
            "76it [00:08,  9.31it/s]\n",
            "76it [00:08,  8.91it/s]\n",
            "76it [00:17,  4.46it/s]\n"
          ]
        },
        {
          "output_type": "stream",
          "name": "stdout",
          "text": [
            "epoch 106\n",
            "critic x loss -4.312 critic z loss -0.441 encoder loss 4.843 decoder loss 0.894\n",
            "\n"
          ]
        },
        {
          "output_type": "stream",
          "name": "stderr",
          "text": [
            "76it [00:08,  8.98it/s]\n",
            "76it [00:08,  8.90it/s]\n",
            "76it [00:08,  9.00it/s]\n",
            "76it [00:08,  8.90it/s]\n",
            "76it [00:08,  9.03it/s]\n",
            "76it [00:17,  4.45it/s]\n"
          ]
        },
        {
          "output_type": "stream",
          "name": "stdout",
          "text": [
            "epoch 107\n",
            "critic x loss -4.340 critic z loss -0.448 encoder loss 4.877 decoder loss 0.896\n",
            "\n"
          ]
        },
        {
          "output_type": "stream",
          "name": "stderr",
          "text": [
            "76it [00:08,  8.94it/s]\n",
            "76it [00:08,  9.06it/s]\n",
            "76it [00:08,  9.12it/s]\n",
            "76it [00:08,  9.13it/s]\n",
            "76it [00:08,  9.10it/s]\n",
            "76it [00:17,  4.45it/s]\n"
          ]
        },
        {
          "output_type": "stream",
          "name": "stdout",
          "text": [
            "epoch 108\n",
            "critic x loss -4.385 critic z loss -0.455 encoder loss 4.923 decoder loss 0.899\n",
            "\n"
          ]
        },
        {
          "output_type": "stream",
          "name": "stderr",
          "text": [
            "76it [00:08,  9.07it/s]\n",
            "76it [00:08,  9.09it/s]\n",
            "76it [00:08,  8.98it/s]\n",
            "76it [00:08,  9.12it/s]\n",
            "76it [00:08,  8.90it/s]\n",
            "76it [00:16,  4.48it/s]\n"
          ]
        },
        {
          "output_type": "stream",
          "name": "stdout",
          "text": [
            "epoch 109\n",
            "critic x loss -4.420 critic z loss -0.457 encoder loss 4.942 decoder loss 0.906\n",
            "\n"
          ]
        },
        {
          "output_type": "stream",
          "name": "stderr",
          "text": [
            "76it [00:08,  9.04it/s]\n",
            "76it [00:08,  8.94it/s]\n",
            "76it [00:08,  8.99it/s]\n",
            "76it [00:08,  8.96it/s]\n",
            "76it [00:08,  8.87it/s]\n",
            "76it [00:16,  4.49it/s]\n"
          ]
        },
        {
          "output_type": "stream",
          "name": "stdout",
          "text": [
            "epoch 110\n",
            "critic x loss -4.458 critic z loss -0.459 encoder loss 5.005 decoder loss 0.911\n",
            "\n"
          ]
        },
        {
          "output_type": "stream",
          "name": "stderr",
          "text": [
            "76it [00:08,  9.18it/s]\n",
            "76it [00:08,  9.02it/s]\n",
            "76it [00:08,  8.99it/s]\n",
            "76it [00:08,  9.09it/s]\n",
            "76it [00:08,  9.10it/s]\n",
            "76it [00:16,  4.51it/s]\n"
          ]
        },
        {
          "output_type": "stream",
          "name": "stdout",
          "text": [
            "epoch 111\n",
            "critic x loss -4.491 critic z loss -0.464 encoder loss 5.040 decoder loss 0.910\n",
            "\n"
          ]
        },
        {
          "output_type": "stream",
          "name": "stderr",
          "text": [
            "76it [00:08,  9.10it/s]\n",
            "76it [00:08,  8.95it/s]\n",
            "76it [00:08,  8.91it/s]\n",
            "76it [00:08,  8.96it/s]\n",
            "76it [00:08,  8.95it/s]\n",
            "76it [00:17,  4.39it/s]\n"
          ]
        },
        {
          "output_type": "stream",
          "name": "stdout",
          "text": [
            "epoch 112\n",
            "critic x loss -4.532 critic z loss -0.466 encoder loss 5.072 decoder loss 0.911\n",
            "\n"
          ]
        },
        {
          "output_type": "stream",
          "name": "stderr",
          "text": [
            "76it [00:08,  8.93it/s]\n",
            "76it [00:08,  9.11it/s]\n",
            "76it [00:08,  9.03it/s]\n",
            "76it [00:08,  9.01it/s]\n",
            "76it [00:08,  9.11it/s]\n",
            "76it [00:16,  4.50it/s]\n"
          ]
        },
        {
          "output_type": "stream",
          "name": "stdout",
          "text": [
            "epoch 113\n",
            "critic x loss -4.562 critic z loss -0.472 encoder loss 5.098 decoder loss 0.917\n",
            "\n"
          ]
        },
        {
          "output_type": "stream",
          "name": "stderr",
          "text": [
            "76it [00:08,  9.02it/s]\n",
            "76it [00:08,  9.11it/s]\n",
            "76it [00:08,  9.01it/s]\n",
            "76it [00:08,  9.01it/s]\n",
            "76it [00:08,  9.03it/s]\n",
            "76it [00:16,  4.51it/s]\n"
          ]
        },
        {
          "output_type": "stream",
          "name": "stdout",
          "text": [
            "epoch 114\n",
            "critic x loss -4.604 critic z loss -0.476 encoder loss 5.159 decoder loss 0.923\n",
            "\n"
          ]
        },
        {
          "output_type": "stream",
          "name": "stderr",
          "text": [
            "76it [00:08,  9.07it/s]\n",
            "76it [00:08,  9.01it/s]\n",
            "76it [00:08,  9.06it/s]\n",
            "76it [00:08,  8.96it/s]\n",
            "76it [00:08,  8.97it/s]\n",
            "76it [00:17,  4.46it/s]\n"
          ]
        },
        {
          "output_type": "stream",
          "name": "stdout",
          "text": [
            "epoch 115\n",
            "critic x loss -4.636 critic z loss -0.480 encoder loss 5.173 decoder loss 0.920\n",
            "\n"
          ]
        },
        {
          "output_type": "stream",
          "name": "stderr",
          "text": [
            "76it [00:08,  9.03it/s]\n",
            "76it [00:08,  8.90it/s]\n",
            "76it [00:08,  9.06it/s]\n",
            "76it [00:08,  9.07it/s]\n",
            "76it [00:08,  9.10it/s]\n",
            "76it [00:16,  4.49it/s]\n"
          ]
        },
        {
          "output_type": "stream",
          "name": "stdout",
          "text": [
            "epoch 116\n",
            "critic x loss -4.674 critic z loss -0.481 encoder loss 5.226 decoder loss 0.918\n",
            "\n"
          ]
        },
        {
          "output_type": "stream",
          "name": "stderr",
          "text": [
            "76it [00:08,  8.95it/s]\n",
            "76it [00:08,  9.10it/s]\n",
            "76it [00:08,  9.12it/s]\n",
            "76it [00:08,  8.95it/s]\n",
            "76it [00:08,  8.94it/s]\n",
            "76it [00:16,  4.51it/s]\n"
          ]
        },
        {
          "output_type": "stream",
          "name": "stdout",
          "text": [
            "epoch 117\n",
            "critic x loss -4.700 critic z loss -0.485 encoder loss 5.251 decoder loss 0.925\n",
            "\n"
          ]
        },
        {
          "output_type": "stream",
          "name": "stderr",
          "text": [
            "76it [00:08,  9.07it/s]\n",
            "76it [00:08,  8.90it/s]\n",
            "76it [00:08,  8.79it/s]\n",
            "76it [00:08,  8.90it/s]\n",
            "76it [00:08,  8.90it/s]\n",
            "76it [00:17,  4.45it/s]\n"
          ]
        },
        {
          "output_type": "stream",
          "name": "stdout",
          "text": [
            "epoch 118\n",
            "critic x loss -4.735 critic z loss -0.490 encoder loss 5.276 decoder loss 0.927\n",
            "\n"
          ]
        },
        {
          "output_type": "stream",
          "name": "stderr",
          "text": [
            "76it [00:08,  8.98it/s]\n",
            "76it [00:08,  9.03it/s]\n",
            "76it [00:08,  9.01it/s]\n",
            "76it [00:08,  9.05it/s]\n",
            "76it [00:08,  9.10it/s]\n",
            "76it [00:16,  4.49it/s]\n"
          ]
        },
        {
          "output_type": "stream",
          "name": "stdout",
          "text": [
            "epoch 119\n",
            "critic x loss -4.773 critic z loss -0.494 encoder loss 5.310 decoder loss 0.922\n",
            "\n"
          ]
        },
        {
          "output_type": "stream",
          "name": "stderr",
          "text": [
            "76it [00:08,  8.97it/s]\n",
            "76it [00:08,  9.00it/s]\n",
            "76it [00:08,  9.03it/s]\n",
            "76it [00:08,  9.03it/s]\n",
            "76it [00:08,  8.99it/s]\n",
            "76it [00:17,  4.46it/s]\n"
          ]
        },
        {
          "output_type": "stream",
          "name": "stdout",
          "text": [
            "epoch 120\n",
            "critic x loss -4.815 critic z loss -0.496 encoder loss 5.337 decoder loss 0.935\n",
            "\n"
          ]
        },
        {
          "output_type": "stream",
          "name": "stderr",
          "text": [
            "76it [00:08,  9.15it/s]\n",
            "76it [00:08,  8.96it/s]\n",
            "76it [00:08,  9.10it/s]\n",
            "76it [00:08,  9.03it/s]\n",
            "76it [00:08,  9.08it/s]\n",
            "76it [00:17,  4.46it/s]\n"
          ]
        },
        {
          "output_type": "stream",
          "name": "stdout",
          "text": [
            "epoch 121\n",
            "critic x loss -4.851 critic z loss -0.501 encoder loss 5.390 decoder loss 0.939\n",
            "\n"
          ]
        },
        {
          "output_type": "stream",
          "name": "stderr",
          "text": [
            "76it [00:08,  9.03it/s]\n",
            "76it [00:08,  8.94it/s]\n",
            "76it [00:08,  9.12it/s]\n",
            "76it [00:08,  9.12it/s]\n",
            "76it [00:08,  9.00it/s]\n",
            "76it [00:16,  4.47it/s]\n"
          ]
        },
        {
          "output_type": "stream",
          "name": "stdout",
          "text": [
            "epoch 122\n",
            "critic x loss -4.885 critic z loss -0.505 encoder loss 5.413 decoder loss 0.939\n",
            "\n"
          ]
        },
        {
          "output_type": "stream",
          "name": "stderr",
          "text": [
            "76it [00:08,  9.10it/s]\n",
            "76it [00:08,  9.00it/s]\n",
            "76it [00:08,  9.07it/s]\n",
            "76it [00:08,  8.88it/s]\n",
            "76it [00:08,  8.95it/s]\n",
            "76it [00:16,  4.50it/s]\n"
          ]
        },
        {
          "output_type": "stream",
          "name": "stdout",
          "text": [
            "epoch 123\n",
            "critic x loss -4.918 critic z loss -0.506 encoder loss 5.444 decoder loss 0.933\n",
            "\n"
          ]
        },
        {
          "output_type": "stream",
          "name": "stderr",
          "text": [
            "76it [00:08,  8.96it/s]\n",
            "76it [00:08,  9.17it/s]\n",
            "76it [00:08,  9.02it/s]\n",
            "76it [00:08,  8.95it/s]\n",
            "76it [00:08,  8.89it/s]\n",
            "76it [00:16,  4.54it/s]\n"
          ]
        },
        {
          "output_type": "stream",
          "name": "stdout",
          "text": [
            "epoch 124\n",
            "critic x loss -4.948 critic z loss -0.511 encoder loss 5.474 decoder loss 0.940\n",
            "\n"
          ]
        },
        {
          "output_type": "stream",
          "name": "stderr",
          "text": [
            "76it [00:08,  9.01it/s]\n",
            "76it [00:08,  9.16it/s]\n",
            "76it [00:08,  8.96it/s]\n",
            "76it [00:08,  9.06it/s]\n",
            "76it [00:08,  9.20it/s]\n",
            "76it [00:16,  4.50it/s]\n"
          ]
        },
        {
          "output_type": "stream",
          "name": "stdout",
          "text": [
            "epoch 125\n",
            "critic x loss -4.986 critic z loss -0.517 encoder loss 5.513 decoder loss 0.941\n",
            "\n"
          ]
        },
        {
          "output_type": "stream",
          "name": "stderr",
          "text": [
            "76it [00:08,  9.21it/s]\n",
            "76it [00:08,  8.97it/s]\n",
            "76it [00:08,  9.03it/s]\n",
            "76it [00:08,  9.22it/s]\n",
            "76it [00:08,  9.06it/s]\n",
            "76it [00:16,  4.55it/s]\n"
          ]
        },
        {
          "output_type": "stream",
          "name": "stdout",
          "text": [
            "epoch 126\n",
            "critic x loss -5.028 critic z loss -0.517 encoder loss 5.560 decoder loss 0.944\n",
            "\n"
          ]
        },
        {
          "output_type": "stream",
          "name": "stderr",
          "text": [
            "76it [00:08,  9.15it/s]\n",
            "76it [00:08,  9.12it/s]\n",
            "76it [00:08,  9.20it/s]\n",
            "76it [00:08,  9.08it/s]\n",
            "76it [00:08,  9.27it/s]\n",
            "76it [00:16,  4.51it/s]\n"
          ]
        },
        {
          "output_type": "stream",
          "name": "stdout",
          "text": [
            "epoch 127\n",
            "critic x loss -5.050 critic z loss -0.519 encoder loss 5.614 decoder loss 0.943\n",
            "\n"
          ]
        },
        {
          "output_type": "stream",
          "name": "stderr",
          "text": [
            "76it [00:08,  9.12it/s]\n",
            "76it [00:08,  9.14it/s]\n",
            "76it [00:08,  9.14it/s]\n",
            "76it [00:08,  9.36it/s]\n",
            "76it [00:08,  9.15it/s]\n",
            "76it [00:16,  4.50it/s]\n"
          ]
        },
        {
          "output_type": "stream",
          "name": "stdout",
          "text": [
            "epoch 128\n",
            "critic x loss -5.091 critic z loss -0.521 encoder loss 5.623 decoder loss 0.952\n",
            "\n"
          ]
        },
        {
          "output_type": "stream",
          "name": "stderr",
          "text": [
            "76it [00:08,  9.11it/s]\n",
            "76it [00:08,  8.97it/s]\n",
            "76it [00:08,  9.10it/s]\n",
            "76it [00:08,  9.12it/s]\n",
            "76it [00:08,  9.02it/s]\n",
            "76it [00:16,  4.53it/s]\n"
          ]
        },
        {
          "output_type": "stream",
          "name": "stdout",
          "text": [
            "epoch 129\n",
            "critic x loss -5.127 critic z loss -0.528 encoder loss 5.653 decoder loss 0.949\n",
            "\n"
          ]
        },
        {
          "output_type": "stream",
          "name": "stderr",
          "text": [
            "76it [00:08,  9.06it/s]\n",
            "76it [00:08,  9.05it/s]\n",
            "76it [00:08,  9.22it/s]\n",
            "76it [00:08,  9.12it/s]\n",
            "76it [00:08,  9.22it/s]\n",
            "76it [00:16,  4.51it/s]\n"
          ]
        },
        {
          "output_type": "stream",
          "name": "stdout",
          "text": [
            "epoch 130\n",
            "critic x loss -5.155 critic z loss -0.532 encoder loss 5.699 decoder loss 0.954\n",
            "\n"
          ]
        },
        {
          "output_type": "stream",
          "name": "stderr",
          "text": [
            "76it [00:08,  9.31it/s]\n",
            "76it [00:08,  9.10it/s]\n",
            "76it [00:08,  9.30it/s]\n",
            "76it [00:08,  9.01it/s]\n",
            "76it [00:08,  9.22it/s]\n",
            "76it [00:16,  4.58it/s]\n"
          ]
        },
        {
          "output_type": "stream",
          "name": "stdout",
          "text": [
            "epoch 131\n",
            "critic x loss -5.193 critic z loss -0.535 encoder loss 5.728 decoder loss 0.961\n",
            "\n"
          ]
        },
        {
          "output_type": "stream",
          "name": "stderr",
          "text": [
            "76it [00:08,  9.23it/s]\n",
            "76it [00:08,  9.17it/s]\n",
            "76it [00:08,  9.29it/s]\n",
            "76it [00:08,  9.10it/s]\n",
            "76it [00:08,  9.25it/s]\n",
            "76it [00:16,  4.57it/s]\n"
          ]
        },
        {
          "output_type": "stream",
          "name": "stdout",
          "text": [
            "epoch 132\n",
            "critic x loss -5.232 critic z loss -0.537 encoder loss 5.763 decoder loss 0.964\n",
            "\n"
          ]
        },
        {
          "output_type": "stream",
          "name": "stderr",
          "text": [
            "76it [00:08,  9.13it/s]\n",
            "76it [00:08,  9.25it/s]\n",
            "76it [00:08,  9.39it/s]\n",
            "76it [00:08,  9.19it/s]\n",
            "76it [00:08,  9.40it/s]\n",
            "76it [00:16,  4.59it/s]\n"
          ]
        },
        {
          "output_type": "stream",
          "name": "stdout",
          "text": [
            "epoch 133\n",
            "critic x loss -5.248 critic z loss -0.543 encoder loss 5.794 decoder loss 0.966\n",
            "\n"
          ]
        },
        {
          "output_type": "stream",
          "name": "stderr",
          "text": [
            "76it [00:08,  9.40it/s]\n",
            "76it [00:08,  9.18it/s]\n",
            "76it [00:08,  9.09it/s]\n",
            "76it [00:08,  9.27it/s]\n",
            "76it [00:08,  9.20it/s]\n",
            "76it [00:16,  4.50it/s]\n"
          ]
        },
        {
          "output_type": "stream",
          "name": "stdout",
          "text": [
            "epoch 134\n",
            "critic x loss -5.283 critic z loss -0.544 encoder loss 5.821 decoder loss 0.962\n",
            "\n"
          ]
        },
        {
          "output_type": "stream",
          "name": "stderr",
          "text": [
            "76it [00:08,  8.99it/s]\n",
            "76it [00:08,  9.38it/s]\n",
            "76it [00:08,  9.15it/s]\n",
            "76it [00:08,  9.37it/s]\n",
            "76it [00:08,  9.21it/s]\n",
            "76it [00:16,  4.56it/s]\n"
          ]
        },
        {
          "output_type": "stream",
          "name": "stdout",
          "text": [
            "epoch 135\n",
            "critic x loss -5.312 critic z loss -0.551 encoder loss 5.859 decoder loss 0.970\n",
            "\n"
          ]
        },
        {
          "output_type": "stream",
          "name": "stderr",
          "text": [
            "76it [00:08,  9.23it/s]\n",
            "76it [00:08,  9.28it/s]\n",
            "76it [00:08,  9.05it/s]\n",
            "76it [00:08,  9.23it/s]\n",
            "76it [00:08,  9.45it/s]\n",
            "76it [00:16,  4.54it/s]\n"
          ]
        },
        {
          "output_type": "stream",
          "name": "stdout",
          "text": [
            "epoch 136\n",
            "critic x loss -5.342 critic z loss -0.555 encoder loss 5.888 decoder loss 0.967\n",
            "\n"
          ]
        },
        {
          "output_type": "stream",
          "name": "stderr",
          "text": [
            "76it [00:08,  9.33it/s]\n",
            "76it [00:08,  9.07it/s]\n",
            "76it [00:08,  9.05it/s]\n",
            "76it [00:08,  9.07it/s]\n",
            "76it [00:08,  9.36it/s]\n",
            "76it [00:16,  4.54it/s]\n"
          ]
        },
        {
          "output_type": "stream",
          "name": "stdout",
          "text": [
            "epoch 137\n",
            "critic x loss -5.383 critic z loss -0.555 encoder loss 5.936 decoder loss 0.972\n",
            "\n"
          ]
        },
        {
          "output_type": "stream",
          "name": "stderr",
          "text": [
            "76it [00:08,  9.00it/s]\n",
            "76it [00:08,  9.33it/s]\n",
            "76it [00:08,  9.31it/s]\n",
            "76it [00:08,  9.11it/s]\n",
            "76it [00:08,  9.23it/s]\n",
            "76it [00:16,  4.49it/s]\n"
          ]
        },
        {
          "output_type": "stream",
          "name": "stdout",
          "text": [
            "epoch 138\n",
            "critic x loss -5.414 critic z loss -0.558 encoder loss 5.964 decoder loss 0.980\n",
            "\n"
          ]
        },
        {
          "output_type": "stream",
          "name": "stderr",
          "text": [
            "76it [00:08,  9.08it/s]\n",
            "76it [00:08,  8.99it/s]\n",
            "76it [00:08,  9.24it/s]\n",
            "76it [00:08,  9.12it/s]\n",
            "76it [00:08,  9.03it/s]\n",
            "76it [00:16,  4.54it/s]\n"
          ]
        },
        {
          "output_type": "stream",
          "name": "stdout",
          "text": [
            "epoch 139\n",
            "critic x loss -5.449 critic z loss -0.563 encoder loss 5.986 decoder loss 0.972\n",
            "\n"
          ]
        },
        {
          "output_type": "stream",
          "name": "stderr",
          "text": [
            "76it [00:08,  8.89it/s]\n",
            "76it [00:08,  9.06it/s]\n",
            "76it [00:08,  9.13it/s]\n",
            "76it [00:08,  9.02it/s]\n",
            "76it [00:08,  9.27it/s]\n",
            "76it [00:16,  4.50it/s]\n"
          ]
        },
        {
          "output_type": "stream",
          "name": "stdout",
          "text": [
            "epoch 140\n",
            "critic x loss -5.491 critic z loss -0.563 encoder loss 6.025 decoder loss 0.972\n",
            "\n"
          ]
        },
        {
          "output_type": "stream",
          "name": "stderr",
          "text": [
            "76it [00:08,  8.99it/s]\n",
            "76it [00:08,  9.10it/s]\n",
            "76it [00:08,  9.15it/s]\n",
            "76it [00:08,  9.03it/s]\n",
            "76it [00:08,  9.07it/s]\n",
            "76it [00:16,  4.53it/s]\n"
          ]
        },
        {
          "output_type": "stream",
          "name": "stdout",
          "text": [
            "epoch 141\n",
            "critic x loss -5.516 critic z loss -0.566 encoder loss 6.063 decoder loss 0.979\n",
            "\n"
          ]
        },
        {
          "output_type": "stream",
          "name": "stderr",
          "text": [
            "76it [00:08,  8.94it/s]\n",
            "76it [00:08,  9.05it/s]\n",
            "76it [00:08,  9.14it/s]\n",
            "76it [00:08,  8.84it/s]\n",
            "76it [00:08,  9.02it/s]\n",
            "76it [00:16,  4.51it/s]\n"
          ]
        },
        {
          "output_type": "stream",
          "name": "stdout",
          "text": [
            "epoch 142\n",
            "critic x loss -5.538 critic z loss -0.571 encoder loss 6.083 decoder loss 0.987\n",
            "\n"
          ]
        },
        {
          "output_type": "stream",
          "name": "stderr",
          "text": [
            "76it [00:08,  9.05it/s]\n",
            "76it [00:08,  9.13it/s]\n",
            "76it [00:08,  9.08it/s]\n",
            "76it [00:08,  9.18it/s]\n",
            "76it [00:08,  9.05it/s]\n",
            "76it [00:17,  4.41it/s]\n"
          ]
        },
        {
          "output_type": "stream",
          "name": "stdout",
          "text": [
            "epoch 143\n",
            "critic x loss -5.578 critic z loss -0.574 encoder loss 6.128 decoder loss 0.981\n",
            "\n"
          ]
        },
        {
          "output_type": "stream",
          "name": "stderr",
          "text": [
            "76it [00:09,  7.68it/s]\n",
            "76it [00:09,  7.89it/s]\n",
            "76it [00:08,  9.02it/s]\n",
            "76it [00:08,  9.19it/s]\n",
            "76it [00:08,  9.21it/s]\n",
            "76it [00:17,  4.44it/s]\n"
          ]
        },
        {
          "output_type": "stream",
          "name": "stdout",
          "text": [
            "epoch 144\n",
            "critic x loss -5.612 critic z loss -0.575 encoder loss 6.159 decoder loss 0.982\n",
            "\n"
          ]
        },
        {
          "output_type": "stream",
          "name": "stderr",
          "text": [
            "76it [00:08,  9.03it/s]\n",
            "76it [00:08,  9.00it/s]\n",
            "76it [00:08,  9.13it/s]\n",
            "76it [00:08,  9.01it/s]\n",
            "76it [00:08,  9.01it/s]\n",
            "76it [00:16,  4.48it/s]\n"
          ]
        },
        {
          "output_type": "stream",
          "name": "stdout",
          "text": [
            "epoch 145\n",
            "critic x loss -5.645 critic z loss -0.580 encoder loss 6.204 decoder loss 0.989\n",
            "\n"
          ]
        },
        {
          "output_type": "stream",
          "name": "stderr",
          "text": [
            "76it [00:08,  9.03it/s]\n",
            "76it [00:08,  9.04it/s]\n",
            "76it [00:08,  8.98it/s]\n",
            "76it [00:08,  9.11it/s]\n",
            "76it [00:08,  9.16it/s]\n",
            "76it [00:16,  4.53it/s]\n"
          ]
        },
        {
          "output_type": "stream",
          "name": "stdout",
          "text": [
            "epoch 146\n",
            "critic x loss -5.673 critic z loss -0.585 encoder loss 6.222 decoder loss 0.990\n",
            "\n"
          ]
        },
        {
          "output_type": "stream",
          "name": "stderr",
          "text": [
            "76it [00:08,  9.30it/s]\n",
            "76it [00:08,  9.03it/s]\n",
            "76it [00:08,  9.03it/s]\n",
            "76it [00:08,  9.16it/s]\n",
            "76it [00:08,  9.17it/s]\n",
            "76it [00:16,  4.54it/s]\n"
          ]
        },
        {
          "output_type": "stream",
          "name": "stdout",
          "text": [
            "epoch 147\n",
            "critic x loss -5.713 critic z loss -0.584 encoder loss 6.268 decoder loss 0.996\n",
            "\n"
          ]
        },
        {
          "output_type": "stream",
          "name": "stderr",
          "text": [
            "76it [00:08,  9.24it/s]\n",
            "76it [00:08,  9.08it/s]\n",
            "76it [00:08,  9.20it/s]\n",
            "76it [00:08,  9.11it/s]\n",
            "76it [00:08,  9.01it/s]\n",
            "76it [00:16,  4.53it/s]\n"
          ]
        },
        {
          "output_type": "stream",
          "name": "stdout",
          "text": [
            "epoch 148\n",
            "critic x loss -5.744 critic z loss -0.591 encoder loss 6.282 decoder loss 0.988\n",
            "\n"
          ]
        },
        {
          "output_type": "stream",
          "name": "stderr",
          "text": [
            "76it [00:08,  9.30it/s]\n",
            "76it [00:08,  9.15it/s]\n",
            "76it [00:08,  8.96it/s]\n",
            "76it [00:08,  8.91it/s]\n",
            "76it [00:08,  9.00it/s]\n",
            "76it [00:16,  4.50it/s]\n"
          ]
        },
        {
          "output_type": "stream",
          "name": "stdout",
          "text": [
            "epoch 149\n",
            "critic x loss -5.772 critic z loss -0.592 encoder loss 6.329 decoder loss 0.993\n",
            "\n"
          ]
        },
        {
          "output_type": "stream",
          "name": "stderr",
          "text": [
            "76it [00:08,  9.03it/s]\n",
            "76it [00:08,  9.11it/s]\n",
            "76it [00:08,  9.18it/s]\n",
            "76it [00:08,  9.00it/s]\n",
            "76it [00:08,  9.04it/s]\n",
            "76it [00:16,  4.52it/s]\n"
          ]
        },
        {
          "output_type": "stream",
          "name": "stdout",
          "text": [
            "epoch 150\n",
            "critic x loss -5.802 critic z loss -0.594 encoder loss 6.370 decoder loss 0.993\n",
            "\n"
          ]
        },
        {
          "output_type": "stream",
          "name": "stderr",
          "text": [
            "76it [00:08,  9.08it/s]\n",
            "76it [00:08,  9.04it/s]\n",
            "76it [00:08,  9.08it/s]\n",
            "76it [00:08,  8.97it/s]\n",
            "76it [00:08,  9.02it/s]\n",
            "76it [00:16,  4.50it/s]\n"
          ]
        },
        {
          "output_type": "stream",
          "name": "stdout",
          "text": [
            "epoch 151\n",
            "critic x loss -5.832 critic z loss -0.599 encoder loss 6.399 decoder loss 0.993\n",
            "\n"
          ]
        },
        {
          "output_type": "stream",
          "name": "stderr",
          "text": [
            "76it [00:08,  9.14it/s]\n",
            "76it [00:08,  9.07it/s]\n",
            "76it [00:08,  9.01it/s]\n",
            "76it [00:08,  9.00it/s]\n",
            "76it [00:08,  8.94it/s]\n",
            "76it [00:16,  4.55it/s]\n"
          ]
        },
        {
          "output_type": "stream",
          "name": "stdout",
          "text": [
            "epoch 152\n",
            "critic x loss -5.853 critic z loss -0.598 encoder loss 6.417 decoder loss 1.000\n",
            "\n"
          ]
        },
        {
          "output_type": "stream",
          "name": "stderr",
          "text": [
            "76it [00:08,  8.98it/s]\n",
            "76it [00:08,  9.16it/s]\n",
            "76it [00:08,  9.06it/s]\n",
            "76it [00:08,  9.16it/s]\n",
            "76it [00:08,  8.86it/s]\n",
            "76it [00:17,  4.45it/s]\n"
          ]
        },
        {
          "output_type": "stream",
          "name": "stdout",
          "text": [
            "epoch 153\n",
            "critic x loss -5.891 critic z loss -0.600 encoder loss 6.437 decoder loss 0.998\n",
            "\n"
          ]
        },
        {
          "output_type": "stream",
          "name": "stderr",
          "text": [
            "76it [00:08,  9.00it/s]\n",
            "76it [00:08,  8.97it/s]\n",
            "76it [00:08,  9.20it/s]\n",
            "76it [00:08,  9.02it/s]\n",
            "76it [00:08,  8.87it/s]\n",
            "76it [00:16,  4.51it/s]\n"
          ]
        },
        {
          "output_type": "stream",
          "name": "stdout",
          "text": [
            "epoch 154\n",
            "critic x loss -5.925 critic z loss -0.604 encoder loss 6.483 decoder loss 1.001\n",
            "\n"
          ]
        },
        {
          "output_type": "stream",
          "name": "stderr",
          "text": [
            "76it [00:08,  9.14it/s]\n",
            "76it [00:08,  8.97it/s]\n",
            "76it [00:08,  8.96it/s]\n",
            "76it [00:08,  8.98it/s]\n",
            "76it [00:08,  8.99it/s]\n",
            "76it [00:16,  4.49it/s]\n"
          ]
        },
        {
          "output_type": "stream",
          "name": "stdout",
          "text": [
            "epoch 155\n",
            "critic x loss -5.957 critic z loss -0.607 encoder loss 6.500 decoder loss 1.001\n",
            "\n"
          ]
        },
        {
          "output_type": "stream",
          "name": "stderr",
          "text": [
            "76it [00:08,  8.93it/s]\n",
            "76it [00:08,  8.88it/s]\n",
            "76it [00:08,  8.95it/s]\n",
            "76it [00:08,  8.93it/s]\n",
            "76it [00:08,  9.01it/s]\n",
            "76it [00:16,  4.52it/s]\n"
          ]
        },
        {
          "output_type": "stream",
          "name": "stdout",
          "text": [
            "epoch 156\n",
            "critic x loss -5.988 critic z loss -0.606 encoder loss 6.548 decoder loss 1.006\n",
            "\n"
          ]
        },
        {
          "output_type": "stream",
          "name": "stderr",
          "text": [
            "76it [00:08,  9.12it/s]\n",
            "76it [00:08,  9.06it/s]\n",
            "76it [00:08,  9.17it/s]\n",
            "76it [00:08,  9.10it/s]\n",
            "76it [00:08,  8.98it/s]\n",
            "76it [00:16,  4.50it/s]\n"
          ]
        },
        {
          "output_type": "stream",
          "name": "stdout",
          "text": [
            "epoch 157\n",
            "critic x loss -6.016 critic z loss -0.613 encoder loss 6.593 decoder loss 1.003\n",
            "\n"
          ]
        },
        {
          "output_type": "stream",
          "name": "stderr",
          "text": [
            "76it [00:08,  9.04it/s]\n",
            "76it [00:08,  9.04it/s]\n",
            "76it [00:08,  9.11it/s]\n",
            "76it [00:08,  9.01it/s]\n",
            "76it [00:08,  9.04it/s]\n",
            "76it [00:16,  4.49it/s]\n"
          ]
        },
        {
          "output_type": "stream",
          "name": "stdout",
          "text": [
            "epoch 158\n",
            "critic x loss -6.055 critic z loss -0.610 encoder loss 6.604 decoder loss 1.006\n",
            "\n"
          ]
        },
        {
          "output_type": "stream",
          "name": "stderr",
          "text": [
            "76it [00:08,  9.11it/s]\n",
            "76it [00:08,  9.12it/s]\n",
            "76it [00:08,  9.18it/s]\n",
            "76it [00:08,  9.08it/s]\n",
            "76it [00:09,  8.00it/s]\n",
            "76it [00:17,  4.44it/s]\n"
          ]
        },
        {
          "output_type": "stream",
          "name": "stdout",
          "text": [
            "epoch 159\n",
            "critic x loss -6.084 critic z loss -0.614 encoder loss 6.644 decoder loss 1.009\n",
            "\n"
          ]
        },
        {
          "output_type": "stream",
          "name": "stderr",
          "text": [
            "76it [00:08,  8.99it/s]\n",
            "76it [00:08,  9.18it/s]\n",
            "76it [00:08,  8.97it/s]\n",
            "76it [00:08,  9.03it/s]\n",
            "76it [00:08,  9.00it/s]\n",
            "76it [00:16,  4.49it/s]\n"
          ]
        },
        {
          "output_type": "stream",
          "name": "stdout",
          "text": [
            "epoch 160\n",
            "critic x loss -6.111 critic z loss -0.618 encoder loss 6.653 decoder loss 1.006\n",
            "\n"
          ]
        },
        {
          "output_type": "stream",
          "name": "stderr",
          "text": [
            "76it [00:08,  9.01it/s]\n",
            "76it [00:08,  9.00it/s]\n",
            "76it [00:08,  9.04it/s]\n",
            "76it [00:08,  9.13it/s]\n",
            "76it [00:08,  8.82it/s]\n",
            "76it [00:16,  4.48it/s]\n"
          ]
        },
        {
          "output_type": "stream",
          "name": "stdout",
          "text": [
            "epoch 161\n",
            "critic x loss -6.147 critic z loss -0.618 encoder loss 6.681 decoder loss 1.006\n",
            "\n"
          ]
        },
        {
          "output_type": "stream",
          "name": "stderr",
          "text": [
            "76it [00:08,  9.06it/s]\n",
            "76it [00:08,  8.98it/s]\n",
            "76it [00:08,  9.04it/s]\n",
            "76it [00:08,  9.06it/s]\n",
            "76it [00:08,  9.04it/s]\n",
            "76it [00:16,  4.50it/s]\n"
          ]
        },
        {
          "output_type": "stream",
          "name": "stdout",
          "text": [
            "epoch 162\n",
            "critic x loss -6.169 critic z loss -0.621 encoder loss 6.738 decoder loss 1.011\n",
            "\n"
          ]
        },
        {
          "output_type": "stream",
          "name": "stderr",
          "text": [
            "76it [00:08,  9.03it/s]\n",
            "76it [00:08,  8.98it/s]\n",
            "76it [00:08,  8.92it/s]\n",
            "76it [00:08,  8.93it/s]\n",
            "76it [00:08,  8.97it/s]\n",
            "76it [00:16,  4.49it/s]\n"
          ]
        },
        {
          "output_type": "stream",
          "name": "stdout",
          "text": [
            "epoch 163\n",
            "critic x loss -6.211 critic z loss -0.622 encoder loss 6.750 decoder loss 1.010\n",
            "\n"
          ]
        },
        {
          "output_type": "stream",
          "name": "stderr",
          "text": [
            "76it [00:08,  9.10it/s]\n",
            "76it [00:08,  9.01it/s]\n",
            "76it [00:08,  9.00it/s]\n",
            "76it [00:08,  8.90it/s]\n",
            "76it [00:08,  8.96it/s]\n",
            "76it [00:16,  4.49it/s]\n"
          ]
        },
        {
          "output_type": "stream",
          "name": "stdout",
          "text": [
            "epoch 164\n",
            "critic x loss -6.234 critic z loss -0.626 encoder loss 6.784 decoder loss 1.005\n",
            "\n"
          ]
        },
        {
          "output_type": "stream",
          "name": "stderr",
          "text": [
            "76it [00:08,  8.98it/s]\n",
            "76it [00:08,  8.97it/s]\n",
            "76it [00:08,  8.97it/s]\n",
            "76it [00:08,  8.92it/s]\n",
            "76it [00:08,  8.97it/s]\n",
            "76it [00:16,  4.48it/s]\n"
          ]
        },
        {
          "output_type": "stream",
          "name": "stdout",
          "text": [
            "epoch 165\n",
            "critic x loss -6.277 critic z loss -0.626 encoder loss 6.846 decoder loss 1.016\n",
            "\n"
          ]
        },
        {
          "output_type": "stream",
          "name": "stderr",
          "text": [
            "76it [00:08,  8.97it/s]\n",
            "76it [00:08,  9.04it/s]\n",
            "76it [00:08,  8.92it/s]\n",
            "76it [00:08,  9.01it/s]\n",
            "76it [00:08,  8.95it/s]\n",
            "76it [00:16,  4.47it/s]\n"
          ]
        },
        {
          "output_type": "stream",
          "name": "stdout",
          "text": [
            "epoch 166\n",
            "critic x loss -6.294 critic z loss -0.629 encoder loss 6.857 decoder loss 1.012\n",
            "\n"
          ]
        },
        {
          "output_type": "stream",
          "name": "stderr",
          "text": [
            "76it [00:08,  8.91it/s]\n",
            "76it [00:08,  8.91it/s]\n",
            "76it [00:08,  9.02it/s]\n",
            "76it [00:08,  9.03it/s]\n",
            "76it [00:08,  8.98it/s]\n",
            "76it [00:16,  4.53it/s]\n"
          ]
        },
        {
          "output_type": "stream",
          "name": "stdout",
          "text": [
            "epoch 167\n",
            "critic x loss -6.321 critic z loss -0.632 encoder loss 6.884 decoder loss 1.021\n",
            "\n"
          ]
        },
        {
          "output_type": "stream",
          "name": "stderr",
          "text": [
            "76it [00:08,  9.00it/s]\n",
            "76it [00:08,  9.11it/s]\n",
            "76it [00:08,  9.00it/s]\n",
            "76it [00:08,  9.03it/s]\n",
            "76it [00:08,  9.11it/s]\n",
            "76it [00:16,  4.48it/s]\n"
          ]
        },
        {
          "output_type": "stream",
          "name": "stdout",
          "text": [
            "epoch 168\n",
            "critic x loss -6.353 critic z loss -0.634 encoder loss 6.913 decoder loss 1.020\n",
            "\n"
          ]
        },
        {
          "output_type": "stream",
          "name": "stderr",
          "text": [
            "76it [00:08,  9.22it/s]\n",
            "76it [00:08,  8.98it/s]\n",
            "76it [00:08,  9.03it/s]\n",
            "76it [00:08,  9.07it/s]\n",
            "76it [00:08,  9.06it/s]\n",
            "76it [00:16,  4.53it/s]\n"
          ]
        },
        {
          "output_type": "stream",
          "name": "stdout",
          "text": [
            "epoch 169\n",
            "critic x loss -6.388 critic z loss -0.634 encoder loss 6.958 decoder loss 1.014\n",
            "\n"
          ]
        },
        {
          "output_type": "stream",
          "name": "stderr",
          "text": [
            "76it [00:08,  8.96it/s]\n",
            "76it [00:08,  9.07it/s]\n",
            "76it [00:08,  9.10it/s]\n",
            "76it [00:08,  8.89it/s]\n",
            "76it [00:08,  8.91it/s]\n",
            "76it [00:16,  4.51it/s]\n"
          ]
        },
        {
          "output_type": "stream",
          "name": "stdout",
          "text": [
            "epoch 170\n",
            "critic x loss -6.420 critic z loss -0.635 encoder loss 6.961 decoder loss 1.018\n",
            "\n"
          ]
        },
        {
          "output_type": "stream",
          "name": "stderr",
          "text": [
            "76it [00:08,  9.06it/s]\n",
            "76it [00:08,  9.02it/s]\n",
            "76it [00:08,  8.96it/s]\n",
            "76it [00:08,  9.01it/s]\n",
            "76it [00:08,  8.82it/s]\n",
            "76it [00:16,  4.48it/s]\n"
          ]
        },
        {
          "output_type": "stream",
          "name": "stdout",
          "text": [
            "epoch 171\n",
            "critic x loss -6.456 critic z loss -0.638 encoder loss 6.999 decoder loss 1.021\n",
            "\n"
          ]
        },
        {
          "output_type": "stream",
          "name": "stderr",
          "text": [
            "76it [00:08,  9.00it/s]\n",
            "76it [00:08,  8.95it/s]\n",
            "76it [00:08,  8.90it/s]\n",
            "76it [00:08,  8.83it/s]\n",
            "76it [00:08,  9.04it/s]\n",
            "76it [00:16,  4.51it/s]\n"
          ]
        },
        {
          "output_type": "stream",
          "name": "stdout",
          "text": [
            "epoch 172\n",
            "critic x loss -6.477 critic z loss -0.637 encoder loss 7.049 decoder loss 1.019\n",
            "\n"
          ]
        },
        {
          "output_type": "stream",
          "name": "stderr",
          "text": [
            "76it [00:08,  9.12it/s]\n",
            "76it [00:08,  9.09it/s]\n",
            "76it [00:08,  9.00it/s]\n",
            "76it [00:08,  8.92it/s]\n",
            "76it [00:08,  8.99it/s]\n",
            "76it [00:16,  4.51it/s]\n"
          ]
        },
        {
          "output_type": "stream",
          "name": "stdout",
          "text": [
            "epoch 173\n",
            "critic x loss -6.514 critic z loss -0.641 encoder loss 7.081 decoder loss 1.021\n",
            "\n"
          ]
        },
        {
          "output_type": "stream",
          "name": "stderr",
          "text": [
            "76it [00:08,  8.90it/s]\n",
            "76it [00:08,  9.00it/s]\n",
            "76it [00:08,  9.15it/s]\n",
            "76it [00:08,  9.10it/s]\n",
            "76it [00:08,  9.12it/s]\n",
            "76it [00:16,  4.49it/s]\n"
          ]
        },
        {
          "output_type": "stream",
          "name": "stdout",
          "text": [
            "epoch 174\n",
            "critic x loss -6.538 critic z loss -0.643 encoder loss 7.084 decoder loss 1.019\n",
            "\n"
          ]
        },
        {
          "output_type": "stream",
          "name": "stderr",
          "text": [
            "76it [00:08,  8.98it/s]\n",
            "76it [00:08,  9.10it/s]\n",
            "76it [00:08,  9.03it/s]\n",
            "76it [00:08,  9.17it/s]\n",
            "76it [00:08,  8.91it/s]\n",
            "76it [00:17,  4.46it/s]\n"
          ]
        },
        {
          "output_type": "stream",
          "name": "stdout",
          "text": [
            "epoch 175\n",
            "critic x loss -6.573 critic z loss -0.641 encoder loss 7.121 decoder loss 1.023\n",
            "\n"
          ]
        },
        {
          "output_type": "stream",
          "name": "stderr",
          "text": [
            "76it [00:08,  8.97it/s]\n",
            "76it [00:08,  8.74it/s]\n",
            "76it [00:08,  8.89it/s]\n",
            "76it [00:08,  8.91it/s]\n",
            "76it [00:08,  8.93it/s]\n",
            "76it [00:16,  4.50it/s]\n"
          ]
        },
        {
          "output_type": "stream",
          "name": "stdout",
          "text": [
            "epoch 176\n",
            "critic x loss -6.611 critic z loss -0.649 encoder loss 7.170 decoder loss 1.026\n",
            "\n"
          ]
        },
        {
          "output_type": "stream",
          "name": "stderr",
          "text": [
            "76it [00:08,  8.81it/s]\n",
            "76it [00:08,  8.79it/s]\n",
            "76it [00:08,  8.96it/s]\n",
            "76it [00:08,  8.94it/s]\n",
            "76it [00:08,  8.80it/s]\n",
            "76it [00:16,  4.49it/s]\n"
          ]
        },
        {
          "output_type": "stream",
          "name": "stdout",
          "text": [
            "epoch 177\n",
            "critic x loss -6.626 critic z loss -0.652 encoder loss 7.189 decoder loss 1.025\n",
            "\n"
          ]
        },
        {
          "output_type": "stream",
          "name": "stderr",
          "text": [
            "76it [00:08,  9.04it/s]\n",
            "76it [00:08,  9.01it/s]\n",
            "76it [00:08,  8.92it/s]\n",
            "76it [00:08,  8.86it/s]\n",
            "76it [00:08,  8.93it/s]\n",
            "76it [00:16,  4.47it/s]\n"
          ]
        },
        {
          "output_type": "stream",
          "name": "stdout",
          "text": [
            "epoch 178\n",
            "critic x loss -6.652 critic z loss -0.653 encoder loss 7.218 decoder loss 1.023\n",
            "\n"
          ]
        },
        {
          "output_type": "stream",
          "name": "stderr",
          "text": [
            "76it [00:08,  8.95it/s]\n",
            "76it [00:08,  8.95it/s]\n",
            "76it [00:08,  8.97it/s]\n",
            "76it [00:08,  9.03it/s]\n",
            "76it [00:08,  8.88it/s]\n",
            "76it [00:16,  4.49it/s]\n"
          ]
        },
        {
          "output_type": "stream",
          "name": "stdout",
          "text": [
            "epoch 179\n",
            "critic x loss -6.681 critic z loss -0.655 encoder loss 7.266 decoder loss 1.025\n",
            "\n"
          ]
        },
        {
          "output_type": "stream",
          "name": "stderr",
          "text": [
            "76it [00:08,  8.93it/s]\n",
            "76it [00:08,  8.85it/s]\n",
            "76it [00:08,  8.83it/s]\n",
            "76it [00:08,  8.96it/s]\n",
            "76it [00:08,  8.99it/s]\n",
            "76it [00:16,  4.48it/s]\n"
          ]
        },
        {
          "output_type": "stream",
          "name": "stdout",
          "text": [
            "epoch 180\n",
            "critic x loss -6.714 critic z loss -0.660 encoder loss 7.313 decoder loss 1.034\n",
            "\n"
          ]
        },
        {
          "output_type": "stream",
          "name": "stderr",
          "text": [
            "76it [00:08,  8.97it/s]\n",
            "76it [00:08,  9.04it/s]\n",
            "76it [00:08,  8.91it/s]\n",
            "76it [00:08,  8.96it/s]\n",
            "76it [00:08,  8.89it/s]\n",
            "76it [00:16,  4.47it/s]\n"
          ]
        },
        {
          "output_type": "stream",
          "name": "stdout",
          "text": [
            "epoch 181\n",
            "critic x loss -6.747 critic z loss -0.661 encoder loss 7.296 decoder loss 1.032\n",
            "\n"
          ]
        },
        {
          "output_type": "stream",
          "name": "stderr",
          "text": [
            "76it [00:08,  8.84it/s]\n",
            "76it [00:08,  8.85it/s]\n",
            "76it [00:08,  9.08it/s]\n",
            "76it [00:08,  8.88it/s]\n",
            "76it [00:08,  8.95it/s]\n",
            "76it [00:16,  4.48it/s]\n"
          ]
        },
        {
          "output_type": "stream",
          "name": "stdout",
          "text": [
            "epoch 182\n",
            "critic x loss -6.756 critic z loss -0.663 encoder loss 7.354 decoder loss 1.035\n",
            "\n"
          ]
        },
        {
          "output_type": "stream",
          "name": "stderr",
          "text": [
            "76it [00:08,  8.95it/s]\n",
            "76it [00:08,  8.93it/s]\n",
            "76it [00:08,  9.05it/s]\n",
            "76it [00:08,  9.06it/s]\n",
            "76it [00:08,  8.94it/s]\n",
            "76it [00:16,  4.50it/s]\n"
          ]
        },
        {
          "output_type": "stream",
          "name": "stdout",
          "text": [
            "epoch 183\n",
            "critic x loss -6.801 critic z loss -0.666 encoder loss 7.350 decoder loss 1.037\n",
            "\n"
          ]
        },
        {
          "output_type": "stream",
          "name": "stderr",
          "text": [
            "76it [00:08,  8.86it/s]\n",
            "76it [00:08,  9.08it/s]\n",
            "76it [00:08,  9.02it/s]\n",
            "76it [00:08,  8.86it/s]\n",
            "76it [00:08,  8.82it/s]\n",
            "76it [00:16,  4.49it/s]\n"
          ]
        },
        {
          "output_type": "stream",
          "name": "stdout",
          "text": [
            "epoch 184\n",
            "critic x loss -6.830 critic z loss -0.669 encoder loss 7.393 decoder loss 1.040\n",
            "\n"
          ]
        },
        {
          "output_type": "stream",
          "name": "stderr",
          "text": [
            "76it [00:08,  8.82it/s]\n",
            "76it [00:08,  8.91it/s]\n",
            "76it [00:08,  8.98it/s]\n",
            "76it [00:08,  8.83it/s]\n",
            "76it [00:08,  8.99it/s]\n",
            "76it [00:16,  4.49it/s]\n"
          ]
        },
        {
          "output_type": "stream",
          "name": "stdout",
          "text": [
            "epoch 185\n",
            "critic x loss -6.874 critic z loss -0.674 encoder loss 7.431 decoder loss 1.043\n",
            "\n"
          ]
        },
        {
          "output_type": "stream",
          "name": "stderr",
          "text": [
            "76it [00:08,  8.98it/s]\n",
            "76it [00:08,  8.86it/s]\n",
            "76it [00:08,  8.91it/s]\n",
            "76it [00:08,  9.04it/s]\n",
            "76it [00:08,  8.88it/s]\n",
            "76it [00:16,  4.54it/s]\n"
          ]
        },
        {
          "output_type": "stream",
          "name": "stdout",
          "text": [
            "epoch 186\n",
            "critic x loss -6.896 critic z loss -0.675 encoder loss 7.450 decoder loss 1.041\n",
            "\n"
          ]
        },
        {
          "output_type": "stream",
          "name": "stderr",
          "text": [
            "76it [00:08,  8.92it/s]\n",
            "76it [00:08,  8.73it/s]\n",
            "76it [00:08,  8.96it/s]\n",
            "76it [00:08,  8.92it/s]\n",
            "76it [00:08,  8.89it/s]\n",
            "76it [00:16,  4.49it/s]\n"
          ]
        },
        {
          "output_type": "stream",
          "name": "stdout",
          "text": [
            "epoch 187\n",
            "critic x loss -6.912 critic z loss -0.680 encoder loss 7.478 decoder loss 1.047\n",
            "\n"
          ]
        },
        {
          "output_type": "stream",
          "name": "stderr",
          "text": [
            "76it [00:08,  8.89it/s]\n",
            "76it [00:08,  8.81it/s]\n",
            "76it [00:08,  8.89it/s]\n",
            "76it [00:08,  8.85it/s]\n",
            "76it [00:08,  8.98it/s]\n",
            "76it [00:16,  4.50it/s]\n"
          ]
        },
        {
          "output_type": "stream",
          "name": "stdout",
          "text": [
            "epoch 188\n",
            "critic x loss -6.946 critic z loss -0.686 encoder loss 7.527 decoder loss 1.051\n",
            "\n"
          ]
        },
        {
          "output_type": "stream",
          "name": "stderr",
          "text": [
            "76it [00:08,  8.92it/s]\n",
            "76it [00:08,  8.90it/s]\n",
            "76it [00:08,  8.94it/s]\n",
            "76it [00:08,  8.88it/s]\n",
            "76it [00:08,  8.88it/s]\n",
            "76it [00:16,  4.50it/s]\n"
          ]
        },
        {
          "output_type": "stream",
          "name": "stdout",
          "text": [
            "epoch 189\n",
            "critic x loss -6.966 critic z loss -0.688 encoder loss 7.548 decoder loss 1.056\n",
            "\n"
          ]
        },
        {
          "output_type": "stream",
          "name": "stderr",
          "text": [
            "76it [00:08,  8.93it/s]\n",
            "76it [00:08,  8.83it/s]\n",
            "76it [00:08,  8.83it/s]\n",
            "76it [00:08,  8.81it/s]\n",
            "76it [00:08,  8.86it/s]\n",
            "76it [00:16,  4.51it/s]\n"
          ]
        },
        {
          "output_type": "stream",
          "name": "stdout",
          "text": [
            "epoch 190\n",
            "critic x loss -7.005 critic z loss -0.694 encoder loss 7.598 decoder loss 1.055\n",
            "\n"
          ]
        },
        {
          "output_type": "stream",
          "name": "stderr",
          "text": [
            "76it [00:08,  8.81it/s]\n",
            "76it [00:08,  8.93it/s]\n",
            "76it [00:08,  8.96it/s]\n",
            "76it [00:08,  8.88it/s]\n",
            "76it [00:08,  8.95it/s]\n",
            "76it [00:16,  4.47it/s]\n"
          ]
        },
        {
          "output_type": "stream",
          "name": "stdout",
          "text": [
            "epoch 191\n",
            "critic x loss -7.027 critic z loss -0.696 encoder loss 7.585 decoder loss 1.066\n",
            "\n"
          ]
        },
        {
          "output_type": "stream",
          "name": "stderr",
          "text": [
            "76it [00:08,  8.89it/s]\n",
            "76it [00:08,  8.80it/s]\n",
            "76it [00:08,  8.91it/s]\n",
            "76it [00:08,  8.84it/s]\n",
            "76it [00:08,  8.75it/s]\n",
            "76it [00:16,  4.55it/s]\n"
          ]
        },
        {
          "output_type": "stream",
          "name": "stdout",
          "text": [
            "epoch 192\n",
            "critic x loss -7.043 critic z loss -0.701 encoder loss 7.628 decoder loss 1.063\n",
            "\n"
          ]
        },
        {
          "output_type": "stream",
          "name": "stderr",
          "text": [
            "76it [00:08,  9.00it/s]\n",
            "76it [00:08,  8.88it/s]\n",
            "76it [00:08,  8.94it/s]\n",
            "76it [00:08,  8.86it/s]\n",
            "76it [00:08,  8.82it/s]\n",
            "76it [00:17,  4.45it/s]\n"
          ]
        },
        {
          "output_type": "stream",
          "name": "stdout",
          "text": [
            "epoch 193\n",
            "critic x loss -7.074 critic z loss -0.702 encoder loss 7.664 decoder loss 1.060\n",
            "\n"
          ]
        },
        {
          "output_type": "stream",
          "name": "stderr",
          "text": [
            "76it [00:08,  8.93it/s]\n",
            "76it [00:08,  8.88it/s]\n",
            "76it [00:08,  8.95it/s]\n",
            "76it [00:08,  8.94it/s]\n",
            "76it [00:08,  8.89it/s]\n",
            "76it [00:17,  4.47it/s]\n"
          ]
        },
        {
          "output_type": "stream",
          "name": "stdout",
          "text": [
            "epoch 194\n",
            "critic x loss -7.114 critic z loss -0.705 encoder loss 7.727 decoder loss 1.064\n",
            "\n"
          ]
        },
        {
          "output_type": "stream",
          "name": "stderr",
          "text": [
            "76it [00:08,  8.90it/s]\n",
            "76it [00:08,  9.02it/s]\n",
            "76it [00:08,  8.81it/s]\n",
            "76it [00:08,  8.78it/s]\n",
            "76it [00:08,  8.78it/s]\n",
            "76it [00:16,  4.50it/s]\n"
          ]
        },
        {
          "output_type": "stream",
          "name": "stdout",
          "text": [
            "epoch 195\n",
            "critic x loss -7.147 critic z loss -0.709 encoder loss 7.722 decoder loss 1.069\n",
            "\n"
          ]
        },
        {
          "output_type": "stream",
          "name": "stderr",
          "text": [
            "76it [00:08,  9.01it/s]\n",
            "76it [00:08,  8.94it/s]\n",
            "76it [00:08,  8.94it/s]\n",
            "76it [00:08,  8.93it/s]\n",
            "76it [00:08,  9.01it/s]\n",
            "76it [00:16,  4.52it/s]\n"
          ]
        },
        {
          "output_type": "stream",
          "name": "stdout",
          "text": [
            "epoch 196\n",
            "critic x loss -7.168 critic z loss -0.711 encoder loss 7.734 decoder loss 1.073\n",
            "\n"
          ]
        },
        {
          "output_type": "stream",
          "name": "stderr",
          "text": [
            "76it [00:08,  8.88it/s]\n",
            "76it [00:08,  8.99it/s]\n",
            "76it [00:08,  8.92it/s]\n",
            "76it [00:08,  8.94it/s]\n",
            "76it [00:08,  8.99it/s]\n",
            "76it [00:16,  4.53it/s]\n"
          ]
        },
        {
          "output_type": "stream",
          "name": "stdout",
          "text": [
            "epoch 197\n",
            "critic x loss -7.205 critic z loss -0.717 encoder loss 7.770 decoder loss 1.070\n",
            "\n"
          ]
        },
        {
          "output_type": "stream",
          "name": "stderr",
          "text": [
            "76it [00:08,  8.99it/s]\n",
            "76it [00:08,  8.85it/s]\n",
            "76it [00:08,  9.04it/s]\n",
            "76it [00:08,  8.92it/s]\n",
            "76it [00:08,  9.02it/s]\n",
            "76it [00:16,  4.47it/s]\n"
          ]
        },
        {
          "output_type": "stream",
          "name": "stdout",
          "text": [
            "epoch 198\n",
            "critic x loss -7.226 critic z loss -0.719 encoder loss 7.809 decoder loss 1.070\n",
            "\n"
          ]
        },
        {
          "output_type": "stream",
          "name": "stderr",
          "text": [
            "76it [00:08,  8.81it/s]\n",
            "76it [00:08,  8.95it/s]\n",
            "76it [00:08,  9.00it/s]\n",
            "76it [00:08,  9.04it/s]\n",
            "76it [00:08,  9.03it/s]\n",
            "76it [00:16,  4.49it/s]\n"
          ]
        },
        {
          "output_type": "stream",
          "name": "stdout",
          "text": [
            "epoch 199\n",
            "critic x loss -7.259 critic z loss -0.721 encoder loss 7.835 decoder loss 1.078\n",
            "\n"
          ]
        },
        {
          "output_type": "stream",
          "name": "stderr",
          "text": [
            "76it [00:08,  8.95it/s]\n",
            "76it [00:08,  8.96it/s]\n",
            "76it [00:08,  8.84it/s]\n",
            "76it [00:08,  8.79it/s]\n",
            "76it [00:08,  8.83it/s]\n",
            "76it [00:17,  4.44it/s]\n"
          ]
        },
        {
          "output_type": "stream",
          "name": "stdout",
          "text": [
            "epoch 200\n",
            "critic x loss -7.292 critic z loss -0.728 encoder loss 7.865 decoder loss 1.081\n",
            "\n"
          ]
        },
        {
          "output_type": "stream",
          "name": "stderr",
          "text": [
            "76it [00:08,  8.83it/s]\n",
            "76it [00:08,  8.82it/s]\n",
            "76it [00:08,  9.05it/s]\n",
            "76it [00:08,  8.96it/s]\n",
            "76it [00:08,  8.93it/s]\n",
            "76it [00:16,  4.53it/s]\n"
          ]
        },
        {
          "output_type": "stream",
          "name": "stdout",
          "text": [
            "epoch 201\n",
            "critic x loss -7.302 critic z loss -0.727 encoder loss 7.895 decoder loss 1.082\n",
            "\n"
          ]
        },
        {
          "output_type": "stream",
          "name": "stderr",
          "text": [
            "76it [00:08,  8.97it/s]\n",
            "76it [00:08,  8.95it/s]\n",
            "76it [00:08,  9.03it/s]\n",
            "76it [00:08,  8.98it/s]\n",
            "76it [00:08,  8.88it/s]\n",
            "76it [00:16,  4.52it/s]\n"
          ]
        },
        {
          "output_type": "stream",
          "name": "stdout",
          "text": [
            "epoch 202\n",
            "critic x loss -7.330 critic z loss -0.734 encoder loss 7.920 decoder loss 1.082\n",
            "\n"
          ]
        },
        {
          "output_type": "stream",
          "name": "stderr",
          "text": [
            "76it [00:08,  9.05it/s]\n",
            "76it [00:08,  9.01it/s]\n",
            "76it [00:08,  9.11it/s]\n",
            "76it [00:08,  9.03it/s]\n",
            "76it [00:08,  8.91it/s]\n",
            "76it [00:16,  4.52it/s]\n"
          ]
        },
        {
          "output_type": "stream",
          "name": "stdout",
          "text": [
            "epoch 203\n",
            "critic x loss -7.366 critic z loss -0.732 encoder loss 7.973 decoder loss 1.080\n",
            "\n"
          ]
        },
        {
          "output_type": "stream",
          "name": "stderr",
          "text": [
            "76it [00:08,  8.80it/s]\n",
            "76it [00:08,  8.85it/s]\n",
            "76it [00:08,  8.79it/s]\n",
            "76it [00:08,  8.95it/s]\n",
            "76it [00:08,  9.02it/s]\n",
            "76it [00:16,  4.50it/s]\n"
          ]
        },
        {
          "output_type": "stream",
          "name": "stdout",
          "text": [
            "epoch 204\n",
            "critic x loss -7.383 critic z loss -0.735 encoder loss 7.978 decoder loss 1.079\n",
            "\n"
          ]
        },
        {
          "output_type": "stream",
          "name": "stderr",
          "text": [
            "76it [00:08,  8.98it/s]\n",
            "76it [00:08,  8.78it/s]\n",
            "76it [00:08,  8.82it/s]\n",
            "76it [00:08,  8.75it/s]\n",
            "76it [00:08,  8.92it/s]\n",
            "76it [00:17,  4.46it/s]\n"
          ]
        },
        {
          "output_type": "stream",
          "name": "stdout",
          "text": [
            "epoch 205\n",
            "critic x loss -7.421 critic z loss -0.737 encoder loss 8.032 decoder loss 1.085\n",
            "\n"
          ]
        },
        {
          "output_type": "stream",
          "name": "stderr",
          "text": [
            "76it [00:08,  8.95it/s]\n",
            "76it [00:08,  8.99it/s]\n",
            "76it [00:08,  8.93it/s]\n",
            "76it [00:08,  8.90it/s]\n",
            "76it [00:08,  8.94it/s]\n",
            "76it [00:16,  4.53it/s]\n"
          ]
        },
        {
          "output_type": "stream",
          "name": "stdout",
          "text": [
            "epoch 206\n",
            "critic x loss -7.434 critic z loss -0.741 encoder loss 8.032 decoder loss 1.093\n",
            "\n"
          ]
        },
        {
          "output_type": "stream",
          "name": "stderr",
          "text": [
            "76it [00:08,  8.92it/s]\n",
            "76it [00:08,  8.97it/s]\n",
            "76it [00:08,  8.89it/s]\n",
            "76it [00:08,  8.95it/s]\n",
            "76it [00:08,  9.07it/s]\n",
            "76it [00:16,  4.51it/s]\n"
          ]
        },
        {
          "output_type": "stream",
          "name": "stdout",
          "text": [
            "epoch 207\n",
            "critic x loss -7.462 critic z loss -0.744 encoder loss 8.066 decoder loss 1.089\n",
            "\n"
          ]
        },
        {
          "output_type": "stream",
          "name": "stderr",
          "text": [
            "76it [00:08,  9.03it/s]\n",
            "76it [00:08,  8.94it/s]\n",
            "76it [00:08,  9.00it/s]\n",
            "76it [00:08,  8.91it/s]\n",
            "76it [00:08,  8.98it/s]\n",
            "76it [00:17,  4.46it/s]\n"
          ]
        },
        {
          "output_type": "stream",
          "name": "stdout",
          "text": [
            "epoch 208\n",
            "critic x loss -7.499 critic z loss -0.747 encoder loss 8.061 decoder loss 1.093\n",
            "\n"
          ]
        },
        {
          "output_type": "stream",
          "name": "stderr",
          "text": [
            "76it [00:08,  9.00it/s]\n",
            "76it [00:08,  8.93it/s]\n",
            "76it [00:08,  8.96it/s]\n",
            "76it [00:08,  8.84it/s]\n",
            "76it [00:08,  8.98it/s]\n",
            "76it [00:16,  4.49it/s]\n"
          ]
        },
        {
          "output_type": "stream",
          "name": "stdout",
          "text": [
            "epoch 209\n",
            "critic x loss -7.521 critic z loss -0.751 encoder loss 8.144 decoder loss 1.100\n",
            "\n"
          ]
        },
        {
          "output_type": "stream",
          "name": "stderr",
          "text": [
            "76it [00:08,  8.97it/s]\n",
            "76it [00:08,  8.92it/s]\n",
            "76it [00:08,  9.00it/s]\n",
            "76it [00:08,  8.90it/s]\n",
            "76it [00:08,  8.82it/s]\n",
            "76it [00:16,  4.49it/s]\n"
          ]
        },
        {
          "output_type": "stream",
          "name": "stdout",
          "text": [
            "epoch 210\n",
            "critic x loss -7.555 critic z loss -0.757 encoder loss 8.130 decoder loss 1.101\n",
            "\n"
          ]
        },
        {
          "output_type": "stream",
          "name": "stderr",
          "text": [
            "76it [00:08,  8.79it/s]\n",
            "76it [00:08,  8.88it/s]\n",
            "76it [00:08,  8.85it/s]\n",
            "76it [00:08,  8.91it/s]\n",
            "76it [00:08,  8.93it/s]\n",
            "76it [00:16,  4.48it/s]\n"
          ]
        },
        {
          "output_type": "stream",
          "name": "stdout",
          "text": [
            "epoch 211\n",
            "critic x loss -7.579 critic z loss -0.757 encoder loss 8.185 decoder loss 1.102\n",
            "\n"
          ]
        },
        {
          "output_type": "stream",
          "name": "stderr",
          "text": [
            "76it [00:08,  8.60it/s]\n",
            "76it [00:08,  8.77it/s]\n",
            "76it [00:08,  8.90it/s]\n",
            "76it [00:08,  8.99it/s]\n",
            "76it [00:08,  8.80it/s]\n",
            "76it [00:16,  4.50it/s]\n"
          ]
        },
        {
          "output_type": "stream",
          "name": "stdout",
          "text": [
            "epoch 212\n",
            "critic x loss -7.592 critic z loss -0.759 encoder loss 8.214 decoder loss 1.098\n",
            "\n"
          ]
        },
        {
          "output_type": "stream",
          "name": "stderr",
          "text": [
            "76it [00:08,  8.86it/s]\n",
            "76it [00:08,  8.91it/s]\n",
            "76it [00:08,  8.94it/s]\n",
            "76it [00:08,  8.88it/s]\n",
            "76it [00:08,  8.81it/s]\n",
            "76it [00:16,  4.51it/s]\n"
          ]
        },
        {
          "output_type": "stream",
          "name": "stdout",
          "text": [
            "epoch 213\n",
            "critic x loss -7.625 critic z loss -0.762 encoder loss 8.242 decoder loss 1.105\n",
            "\n"
          ]
        },
        {
          "output_type": "stream",
          "name": "stderr",
          "text": [
            "76it [00:08,  8.72it/s]\n",
            "76it [00:08,  8.88it/s]\n",
            "76it [00:08,  8.96it/s]\n",
            "76it [00:08,  8.82it/s]\n",
            "76it [00:08,  8.95it/s]\n",
            "76it [00:17,  4.43it/s]\n"
          ]
        },
        {
          "output_type": "stream",
          "name": "stdout",
          "text": [
            "epoch 214\n",
            "critic x loss -7.655 critic z loss -0.767 encoder loss 8.270 decoder loss 1.109\n",
            "\n"
          ]
        },
        {
          "output_type": "stream",
          "name": "stderr",
          "text": [
            "76it [00:08,  8.86it/s]\n",
            "76it [00:08,  8.95it/s]\n",
            "76it [00:08,  8.93it/s]\n",
            "76it [00:08,  8.85it/s]\n",
            "76it [00:08,  8.97it/s]\n",
            "76it [00:16,  4.49it/s]\n"
          ]
        },
        {
          "output_type": "stream",
          "name": "stdout",
          "text": [
            "epoch 215\n",
            "critic x loss -7.685 critic z loss -0.773 encoder loss 8.254 decoder loss 1.110\n",
            "\n"
          ]
        },
        {
          "output_type": "stream",
          "name": "stderr",
          "text": [
            "76it [00:08,  8.82it/s]\n",
            "76it [00:08,  8.70it/s]\n",
            "76it [00:08,  9.02it/s]\n",
            "76it [00:08,  8.81it/s]\n",
            "76it [00:08,  8.91it/s]\n",
            "76it [00:16,  4.52it/s]\n"
          ]
        },
        {
          "output_type": "stream",
          "name": "stdout",
          "text": [
            "epoch 216\n",
            "critic x loss -7.703 critic z loss -0.777 encoder loss 8.338 decoder loss 1.120\n",
            "\n"
          ]
        },
        {
          "output_type": "stream",
          "name": "stderr",
          "text": [
            "76it [00:08,  8.98it/s]\n",
            "76it [00:08,  9.00it/s]\n",
            "76it [00:08,  8.81it/s]\n",
            "76it [00:08,  8.85it/s]\n",
            "76it [00:08,  8.85it/s]\n",
            "76it [00:17,  4.45it/s]\n"
          ]
        },
        {
          "output_type": "stream",
          "name": "stdout",
          "text": [
            "epoch 217\n",
            "critic x loss -7.726 critic z loss -0.782 encoder loss 8.345 decoder loss 1.122\n",
            "\n"
          ]
        },
        {
          "output_type": "stream",
          "name": "stderr",
          "text": [
            "76it [00:08,  8.80it/s]\n",
            "76it [00:08,  8.87it/s]\n",
            "76it [00:08,  8.91it/s]\n",
            "76it [00:08,  8.89it/s]\n",
            "76it [00:08,  8.87it/s]\n",
            "76it [00:16,  4.47it/s]\n"
          ]
        },
        {
          "output_type": "stream",
          "name": "stdout",
          "text": [
            "epoch 218\n",
            "critic x loss -7.759 critic z loss -0.784 encoder loss 8.358 decoder loss 1.121\n",
            "\n"
          ]
        },
        {
          "output_type": "stream",
          "name": "stderr",
          "text": [
            "76it [00:08,  8.76it/s]\n",
            "76it [00:08,  8.81it/s]\n",
            "76it [00:08,  8.82it/s]\n",
            "76it [00:08,  8.82it/s]\n",
            "76it [00:08,  8.88it/s]\n",
            "76it [00:16,  4.52it/s]\n"
          ]
        },
        {
          "output_type": "stream",
          "name": "stdout",
          "text": [
            "epoch 219\n",
            "critic x loss -7.772 critic z loss -0.786 encoder loss 8.389 decoder loss 1.130\n",
            "\n"
          ]
        },
        {
          "output_type": "stream",
          "name": "stderr",
          "text": [
            "76it [00:08,  8.78it/s]\n",
            "76it [00:08,  8.70it/s]\n",
            "76it [00:08,  8.86it/s]\n",
            "76it [00:08,  8.81it/s]\n",
            "76it [00:08,  8.85it/s]\n",
            "76it [00:17,  4.45it/s]\n"
          ]
        },
        {
          "output_type": "stream",
          "name": "stdout",
          "text": [
            "epoch 220\n",
            "critic x loss -7.804 critic z loss -0.791 encoder loss 8.409 decoder loss 1.131\n",
            "\n"
          ]
        },
        {
          "output_type": "stream",
          "name": "stderr",
          "text": [
            "76it [00:08,  8.83it/s]\n",
            "76it [00:08,  8.81it/s]\n",
            "76it [00:08,  8.92it/s]\n",
            "76it [00:08,  8.81it/s]\n",
            "76it [00:08,  8.92it/s]\n",
            "76it [00:17,  4.45it/s]\n"
          ]
        },
        {
          "output_type": "stream",
          "name": "stdout",
          "text": [
            "epoch 221\n",
            "critic x loss -7.843 critic z loss -0.797 encoder loss 8.410 decoder loss 1.132\n",
            "\n"
          ]
        },
        {
          "output_type": "stream",
          "name": "stderr",
          "text": [
            "76it [00:08,  8.85it/s]\n",
            "76it [00:08,  8.86it/s]\n",
            "76it [00:08,  8.92it/s]\n",
            "76it [00:08,  8.91it/s]\n",
            "76it [00:08,  8.87it/s]\n",
            "76it [00:16,  4.49it/s]\n"
          ]
        },
        {
          "output_type": "stream",
          "name": "stdout",
          "text": [
            "epoch 222\n",
            "critic x loss -7.855 critic z loss -0.803 encoder loss 8.506 decoder loss 1.135\n",
            "\n"
          ]
        },
        {
          "output_type": "stream",
          "name": "stderr",
          "text": [
            "76it [00:08,  8.91it/s]\n",
            "76it [00:08,  8.90it/s]\n",
            "76it [00:08,  8.80it/s]\n",
            "76it [00:08,  8.88it/s]\n",
            "76it [00:08,  8.90it/s]\n",
            "76it [00:16,  4.51it/s]\n"
          ]
        },
        {
          "output_type": "stream",
          "name": "stdout",
          "text": [
            "epoch 223\n",
            "critic x loss -7.881 critic z loss -0.805 encoder loss 8.495 decoder loss 1.142\n",
            "\n"
          ]
        },
        {
          "output_type": "stream",
          "name": "stderr",
          "text": [
            "76it [00:08,  8.90it/s]\n",
            "76it [00:08,  8.68it/s]\n",
            "76it [00:08,  8.72it/s]\n",
            "76it [00:08,  8.81it/s]\n",
            "76it [00:08,  9.01it/s]\n",
            "76it [00:17,  4.46it/s]\n"
          ]
        },
        {
          "output_type": "stream",
          "name": "stdout",
          "text": [
            "epoch 224\n",
            "critic x loss -7.905 critic z loss -0.809 encoder loss 8.520 decoder loss 1.142\n",
            "\n"
          ]
        },
        {
          "output_type": "stream",
          "name": "stderr",
          "text": [
            "76it [00:08,  8.84it/s]\n",
            "76it [00:08,  8.89it/s]\n",
            "76it [00:08,  8.76it/s]\n",
            "76it [00:08,  8.71it/s]\n",
            "76it [00:08,  8.97it/s]\n",
            "76it [00:16,  4.48it/s]\n"
          ]
        },
        {
          "output_type": "stream",
          "name": "stdout",
          "text": [
            "epoch 225\n",
            "critic x loss -7.931 critic z loss -0.813 encoder loss 8.549 decoder loss 1.152\n",
            "\n"
          ]
        },
        {
          "output_type": "stream",
          "name": "stderr",
          "text": [
            "76it [00:08,  8.89it/s]\n",
            "76it [00:08,  8.80it/s]\n",
            "76it [00:08,  8.73it/s]\n",
            "76it [00:08,  8.97it/s]\n",
            "76it [00:08,  8.91it/s]\n",
            "76it [00:16,  4.52it/s]\n"
          ]
        },
        {
          "output_type": "stream",
          "name": "stdout",
          "text": [
            "epoch 226\n",
            "critic x loss -7.950 critic z loss -0.817 encoder loss 8.577 decoder loss 1.150\n",
            "\n"
          ]
        },
        {
          "output_type": "stream",
          "name": "stderr",
          "text": [
            "76it [00:08,  8.91it/s]\n",
            "76it [00:08,  8.81it/s]\n",
            "76it [00:08,  8.88it/s]\n",
            "76it [00:08,  8.97it/s]\n",
            "76it [00:08,  8.87it/s]\n",
            "76it [00:16,  4.53it/s]\n"
          ]
        },
        {
          "output_type": "stream",
          "name": "stdout",
          "text": [
            "epoch 227\n",
            "critic x loss -7.988 critic z loss -0.819 encoder loss 8.572 decoder loss 1.152\n",
            "\n"
          ]
        },
        {
          "output_type": "stream",
          "name": "stderr",
          "text": [
            "76it [00:08,  9.00it/s]\n",
            "76it [00:08,  8.88it/s]\n",
            "76it [00:08,  8.92it/s]\n",
            "76it [00:08,  8.90it/s]\n",
            "76it [00:08,  8.81it/s]\n",
            "76it [00:16,  4.49it/s]\n"
          ]
        },
        {
          "output_type": "stream",
          "name": "stdout",
          "text": [
            "epoch 228\n",
            "critic x loss -8.005 critic z loss -0.825 encoder loss 8.629 decoder loss 1.158\n",
            "\n"
          ]
        },
        {
          "output_type": "stream",
          "name": "stderr",
          "text": [
            "76it [00:08,  8.92it/s]\n",
            "76it [00:08,  8.77it/s]\n",
            "76it [00:08,  8.83it/s]\n",
            "76it [00:08,  8.86it/s]\n",
            "76it [00:08,  8.95it/s]\n",
            "76it [00:16,  4.50it/s]\n"
          ]
        },
        {
          "output_type": "stream",
          "name": "stdout",
          "text": [
            "epoch 229\n",
            "critic x loss -8.026 critic z loss -0.828 encoder loss 8.640 decoder loss 1.158\n",
            "\n"
          ]
        },
        {
          "output_type": "stream",
          "name": "stderr",
          "text": [
            "76it [00:08,  8.88it/s]\n",
            "76it [00:08,  8.95it/s]\n",
            "76it [00:08,  8.88it/s]\n",
            "76it [00:08,  8.81it/s]\n",
            "76it [00:08,  8.76it/s]\n",
            "76it [00:16,  4.52it/s]\n"
          ]
        },
        {
          "output_type": "stream",
          "name": "stdout",
          "text": [
            "epoch 230\n",
            "critic x loss -8.050 critic z loss -0.833 encoder loss 8.685 decoder loss 1.162\n",
            "\n"
          ]
        },
        {
          "output_type": "stream",
          "name": "stderr",
          "text": [
            "76it [00:08,  8.94it/s]\n",
            "76it [00:08,  9.04it/s]\n",
            "76it [00:08,  8.90it/s]\n",
            "76it [00:08,  8.84it/s]\n",
            "76it [00:08,  8.89it/s]\n",
            "76it [00:17,  4.47it/s]\n"
          ]
        },
        {
          "output_type": "stream",
          "name": "stdout",
          "text": [
            "epoch 231\n",
            "critic x loss -8.071 critic z loss -0.832 encoder loss 8.697 decoder loss 1.158\n",
            "\n"
          ]
        },
        {
          "output_type": "stream",
          "name": "stderr",
          "text": [
            "76it [00:08,  8.85it/s]\n",
            "76it [00:08,  8.82it/s]\n",
            "76it [00:08,  8.76it/s]\n",
            "76it [00:08,  8.83it/s]\n",
            "76it [00:08,  8.80it/s]\n",
            "76it [00:16,  4.49it/s]\n"
          ]
        },
        {
          "output_type": "stream",
          "name": "stdout",
          "text": [
            "epoch 232\n",
            "critic x loss -8.098 critic z loss -0.837 encoder loss 8.711 decoder loss 1.162\n",
            "\n"
          ]
        },
        {
          "output_type": "stream",
          "name": "stderr",
          "text": [
            "76it [00:08,  8.89it/s]\n",
            "76it [00:08,  9.04it/s]\n",
            "76it [00:08,  8.73it/s]\n",
            "76it [00:08,  8.85it/s]\n",
            "76it [00:08,  8.86it/s]\n",
            "76it [00:16,  4.47it/s]\n"
          ]
        },
        {
          "output_type": "stream",
          "name": "stdout",
          "text": [
            "epoch 233\n",
            "critic x loss -8.108 critic z loss -0.839 encoder loss 8.787 decoder loss 1.163\n",
            "\n"
          ]
        },
        {
          "output_type": "stream",
          "name": "stderr",
          "text": [
            "76it [00:08,  8.81it/s]\n",
            "76it [00:08,  8.86it/s]\n",
            "76it [00:08,  8.94it/s]\n",
            "76it [00:08,  8.91it/s]\n",
            "76it [00:08,  8.90it/s]\n",
            "76it [00:16,  4.51it/s]\n"
          ]
        },
        {
          "output_type": "stream",
          "name": "stdout",
          "text": [
            "epoch 234\n",
            "critic x loss -8.148 critic z loss -0.843 encoder loss 8.756 decoder loss 1.171\n",
            "\n"
          ]
        },
        {
          "output_type": "stream",
          "name": "stderr",
          "text": [
            "76it [00:08,  8.88it/s]\n",
            "76it [00:08,  8.79it/s]\n",
            "76it [00:08,  8.69it/s]\n",
            "76it [00:08,  8.86it/s]\n",
            "76it [00:08,  8.73it/s]\n",
            "76it [00:17,  4.43it/s]\n"
          ]
        },
        {
          "output_type": "stream",
          "name": "stdout",
          "text": [
            "epoch 235\n",
            "critic x loss -8.169 critic z loss -0.849 encoder loss 8.811 decoder loss 1.175\n",
            "\n"
          ]
        },
        {
          "output_type": "stream",
          "name": "stderr",
          "text": [
            "76it [00:08,  8.71it/s]\n",
            "76it [00:08,  8.74it/s]\n",
            "76it [00:08,  8.88it/s]\n",
            "76it [00:08,  8.71it/s]\n",
            "76it [00:08,  8.86it/s]\n",
            "76it [00:16,  4.49it/s]\n"
          ]
        },
        {
          "output_type": "stream",
          "name": "stdout",
          "text": [
            "epoch 236\n",
            "critic x loss -8.187 critic z loss -0.852 encoder loss 8.814 decoder loss 1.175\n",
            "\n"
          ]
        },
        {
          "output_type": "stream",
          "name": "stderr",
          "text": [
            "76it [00:08,  8.93it/s]\n",
            "76it [00:08,  8.85it/s]\n",
            "76it [00:08,  8.96it/s]\n",
            "76it [00:08,  8.75it/s]\n",
            "76it [00:08,  8.85it/s]\n",
            "76it [00:16,  4.47it/s]\n"
          ]
        },
        {
          "output_type": "stream",
          "name": "stdout",
          "text": [
            "epoch 237\n",
            "critic x loss -8.213 critic z loss -0.857 encoder loss 8.831 decoder loss 1.182\n",
            "\n"
          ]
        },
        {
          "output_type": "stream",
          "name": "stderr",
          "text": [
            "76it [00:08,  8.91it/s]\n",
            "76it [00:08,  9.00it/s]\n",
            "76it [00:08,  8.92it/s]\n",
            "76it [00:08,  8.82it/s]\n",
            "76it [00:08,  8.84it/s]\n",
            "76it [00:16,  4.48it/s]\n"
          ]
        },
        {
          "output_type": "stream",
          "name": "stdout",
          "text": [
            "epoch 238\n",
            "critic x loss -8.244 critic z loss -0.862 encoder loss 8.859 decoder loss 1.179\n",
            "\n"
          ]
        },
        {
          "output_type": "stream",
          "name": "stderr",
          "text": [
            "76it [00:08,  8.90it/s]\n",
            "76it [00:08,  8.80it/s]\n",
            "76it [00:08,  8.80it/s]\n",
            "76it [00:08,  8.82it/s]\n",
            "76it [00:08,  8.84it/s]\n",
            "76it [00:16,  4.48it/s]\n"
          ]
        },
        {
          "output_type": "stream",
          "name": "stdout",
          "text": [
            "epoch 239\n",
            "critic x loss -8.263 critic z loss -0.863 encoder loss 8.877 decoder loss 1.193\n",
            "\n"
          ]
        },
        {
          "output_type": "stream",
          "name": "stderr",
          "text": [
            "76it [00:08,  8.82it/s]\n",
            "76it [00:08,  8.71it/s]\n",
            "76it [00:08,  8.77it/s]\n",
            "76it [00:08,  8.83it/s]\n",
            "76it [00:08,  8.76it/s]\n",
            "76it [00:16,  4.53it/s]\n"
          ]
        },
        {
          "output_type": "stream",
          "name": "stdout",
          "text": [
            "epoch 240\n",
            "critic x loss -8.276 critic z loss -0.866 encoder loss 8.905 decoder loss 1.190\n",
            "\n"
          ]
        },
        {
          "output_type": "stream",
          "name": "stderr",
          "text": [
            "76it [00:08,  8.86it/s]\n",
            "76it [00:08,  8.66it/s]\n",
            "76it [00:08,  8.81it/s]\n",
            "76it [00:08,  8.74it/s]\n",
            "76it [00:08,  8.68it/s]\n",
            "76it [00:17,  4.43it/s]\n"
          ]
        },
        {
          "output_type": "stream",
          "name": "stdout",
          "text": [
            "epoch 241\n",
            "critic x loss -8.304 critic z loss -0.872 encoder loss 8.937 decoder loss 1.195\n",
            "\n"
          ]
        },
        {
          "output_type": "stream",
          "name": "stderr",
          "text": [
            "76it [00:08,  8.75it/s]\n",
            "76it [00:08,  8.80it/s]\n",
            "76it [00:08,  8.82it/s]\n",
            "76it [00:08,  8.76it/s]\n",
            "76it [00:08,  8.91it/s]\n",
            "76it [00:16,  4.48it/s]\n"
          ]
        },
        {
          "output_type": "stream",
          "name": "stdout",
          "text": [
            "epoch 242\n",
            "critic x loss -8.331 critic z loss -0.877 encoder loss 8.972 decoder loss 1.198\n",
            "\n"
          ]
        },
        {
          "output_type": "stream",
          "name": "stderr",
          "text": [
            "76it [00:08,  8.72it/s]\n",
            "76it [00:08,  8.87it/s]\n",
            "76it [00:08,  8.92it/s]\n",
            "76it [00:08,  8.81it/s]\n",
            "76it [00:08,  8.82it/s]\n",
            "76it [00:16,  4.47it/s]\n"
          ]
        },
        {
          "output_type": "stream",
          "name": "stdout",
          "text": [
            "epoch 243\n",
            "critic x loss -8.358 critic z loss -0.884 encoder loss 9.010 decoder loss 1.201\n",
            "\n"
          ]
        },
        {
          "output_type": "stream",
          "name": "stderr",
          "text": [
            "76it [00:08,  8.74it/s]\n",
            "76it [00:08,  8.80it/s]\n",
            "76it [00:08,  8.84it/s]\n",
            "76it [00:08,  8.79it/s]\n",
            "76it [00:08,  8.78it/s]\n",
            "76it [00:17,  4.45it/s]\n"
          ]
        },
        {
          "output_type": "stream",
          "name": "stdout",
          "text": [
            "epoch 244\n",
            "critic x loss -8.380 critic z loss -0.885 encoder loss 9.018 decoder loss 1.202\n",
            "\n"
          ]
        },
        {
          "output_type": "stream",
          "name": "stderr",
          "text": [
            "76it [00:08,  8.96it/s]\n",
            "76it [00:08,  8.75it/s]\n",
            "76it [00:08,  8.86it/s]\n",
            "76it [00:08,  8.79it/s]\n",
            "76it [00:08,  8.93it/s]\n",
            "76it [00:16,  4.50it/s]\n"
          ]
        },
        {
          "output_type": "stream",
          "name": "stdout",
          "text": [
            "epoch 245\n",
            "critic x loss -8.395 critic z loss -0.889 encoder loss 9.033 decoder loss 1.208\n",
            "\n"
          ]
        },
        {
          "output_type": "stream",
          "name": "stderr",
          "text": [
            "76it [00:08,  8.95it/s]\n",
            "76it [00:08,  8.79it/s]\n",
            "76it [00:08,  8.98it/s]\n",
            "76it [00:08,  8.83it/s]\n",
            "76it [00:08,  8.71it/s]\n",
            "76it [00:17,  4.46it/s]\n"
          ]
        },
        {
          "output_type": "stream",
          "name": "stdout",
          "text": [
            "epoch 246\n",
            "critic x loss -8.417 critic z loss -0.895 encoder loss 9.057 decoder loss 1.213\n",
            "\n"
          ]
        },
        {
          "output_type": "stream",
          "name": "stderr",
          "text": [
            "76it [00:08,  8.79it/s]\n",
            "76it [00:08,  8.79it/s]\n",
            "76it [00:08,  8.79it/s]\n",
            "76it [00:08,  8.80it/s]\n",
            "76it [00:08,  8.88it/s]\n",
            "76it [00:16,  4.50it/s]\n"
          ]
        },
        {
          "output_type": "stream",
          "name": "stdout",
          "text": [
            "epoch 247\n",
            "critic x loss -8.437 critic z loss -0.896 encoder loss 9.126 decoder loss 1.218\n",
            "\n"
          ]
        },
        {
          "output_type": "stream",
          "name": "stderr",
          "text": [
            "76it [00:08,  8.80it/s]\n",
            "76it [00:08,  8.87it/s]\n",
            "76it [00:08,  8.87it/s]\n",
            "76it [00:08,  8.80it/s]\n",
            "76it [00:08,  8.92it/s]\n",
            "76it [00:16,  4.48it/s]\n"
          ]
        },
        {
          "output_type": "stream",
          "name": "stdout",
          "text": [
            "epoch 248\n",
            "critic x loss -8.472 critic z loss -0.901 encoder loss 9.108 decoder loss 1.215\n",
            "\n"
          ]
        },
        {
          "output_type": "stream",
          "name": "stderr",
          "text": [
            "76it [00:08,  8.75it/s]\n",
            "76it [00:08,  8.90it/s]\n",
            "76it [00:08,  8.88it/s]\n",
            "76it [00:08,  8.81it/s]\n",
            "76it [00:08,  8.89it/s]\n",
            "76it [00:16,  4.52it/s]"
          ]
        },
        {
          "output_type": "stream",
          "name": "stdout",
          "text": [
            "epoch 249\n",
            "critic x loss -8.490 critic z loss -0.905 encoder loss 9.126 decoder loss 1.219\n",
            "\n"
          ]
        },
        {
          "output_type": "stream",
          "name": "stderr",
          "text": [
            "\n"
          ]
        }
      ],
      "source": [
        "batch_size = 64\n",
        "train_loader = DataLoader(train_dataset, batch_size=batch_size, drop_last=True)\n",
        "\n",
        "lr = 1e-6\n",
        "\n",
        "signal_shape = 100\n",
        "latent_space_dim = 20\n",
        "\n",
        "encoder = model_transformer.Encoder(signal_shape)\n",
        "decoder = model_transformer.Decoder(signal_shape)\n",
        "critic_x = model_transformer.CriticX(signal_shape)\n",
        "critic_z = model_transformer.CriticZ()\n",
        "\n",
        "mse_loss = torch.nn.MSELoss()\n",
        "\n",
        "optim_enc = optim.Adam(encoder.parameters(), lr=lr, betas=(0.5, 0.999))\n",
        "optim_dec = optim.Adam(decoder.parameters(), lr=lr, betas=(0.5, 0.999))\n",
        "optim_cx = optim.Adam(critic_x.parameters(), lr=lr, betas=(0.5, 0.999))\n",
        "optim_cz = optim.Adam(critic_z.parameters(), lr=lr, betas=(0.5, 0.999))\n",
        "\n",
        "train(n_epochs = 250)"
      ]
    },
    {
      "cell_type": "code",
      "execution_count": 21,
      "metadata": {
        "id": "xCcQ3-rKHBC-",
        "colab": {
          "base_uri": "https://localhost:8080/"
        },
        "outputId": "d55beb0b-cf0e-4651-ac8f-d29b94d2ca04"
      },
      "outputs": [
        {
          "output_type": "stream",
          "name": "stderr",
          "text": [
            "76it [00:05, 13.27it/s]"
          ]
        },
        {
          "output_type": "stream",
          "name": "stdout",
          "text": [
            "4864\n"
          ]
        },
        {
          "output_type": "stream",
          "name": "stderr",
          "text": [
            "\n"
          ]
        }
      ],
      "source": [
        "reconstructed_train = evaluate(train_loader)\n",
        "print(len(reconstructed_train))"
      ]
    },
    {
      "cell_type": "code",
      "execution_count": 22,
      "metadata": {
        "id": "tsku0orVHT4m",
        "colab": {
          "base_uri": "https://localhost:8080/"
        },
        "outputId": "4d93d785-662c-49f2-f10a-29a0cf79cf69"
      },
      "outputs": [
        {
          "output_type": "stream",
          "name": "stderr",
          "text": [
            "29it [00:02, 13.33it/s]"
          ]
        },
        {
          "output_type": "stream",
          "name": "stdout",
          "text": [
            "1856\n"
          ]
        },
        {
          "output_type": "stream",
          "name": "stderr",
          "text": [
            "\n"
          ]
        }
      ],
      "source": [
        "test_loader = DataLoader(test_dataset, batch_size=batch_size, drop_last=True)\n",
        "reconstructed_test = evaluate(test_loader)\n",
        "print(len(reconstructed_test))"
      ]
    },
    {
      "cell_type": "code",
      "execution_count": 23,
      "metadata": {
        "id": "RsEx84yIbHPc"
      },
      "outputs": [],
      "source": [
        "x_values_train = np.arange(start=0, stop=len(reconstructed_train), step=1)\n",
        "signal_train = temperature_data['signal'][:len(reconstructed_train)]"
      ]
    },
    {
      "cell_type": "code",
      "execution_count": 24,
      "metadata": {
        "id": "vwFBqgodbiGi",
        "colab": {
          "base_uri": "https://localhost:8080/",
          "height": 368
        },
        "outputId": "3ecb4e8f-e6c3-4bfa-ba50-fe9b93f726a7"
      },
      "outputs": [
        {
          "output_type": "display_data",
          "data": {
            "image/png": "[encoded data removed]",
            "text/plain": [
              "<Figure size 2160x432 with 1 Axes>"
            ]
          },
          "metadata": {
            "needs_background": "light"
          }
        }
      ],
      "source": [
        "fig = plt.figure(figsize=(30, 6))\n",
        "ax = fig.add_subplot(111)\n",
        "\n",
        "plt.plot(x_values_train, reconstructed_train, label='reconstructed')\n",
        "plt.plot(x_values_train, signal_train, label='original')\n",
        "\n",
        "\n",
        "plt.title('Reconstructed train dataset', size=34)\n",
        "plt.ylabel('value', size=30)\n",
        "plt.xlabel('Time', size=30)\n",
        "plt.xticks(size=26)\n",
        "plt.yticks(size=26)\n",
        "plt.legend()\n",
        "    \n",
        "plt.show()"
      ]
    },
    {
      "cell_type": "code",
      "execution_count": 25,
      "metadata": {
        "id": "k6U2ezL7b2Im"
      },
      "outputs": [],
      "source": [
        "x_values_test = np.arange(start=0, stop=len(reconstructed_test), step=1)\n",
        "signal_test = temperature_data['signal'][5000:5000+len(reconstructed_test)]"
      ]
    },
    {
      "cell_type": "code",
      "execution_count": 26,
      "metadata": {
        "id": "mKuAK_b9eJRf",
        "colab": {
          "base_uri": "https://localhost:8080/",
          "height": 368
        },
        "outputId": "fa2c9e49-39fd-4ecb-eda1-90d69321359c"
      },
      "outputs": [
        {
          "output_type": "display_data",
          "data": {
            "image/png": "[encoded data removed]",
            "text/plain": [
              "<Figure size 2160x432 with 1 Axes>"
            ]
          },
          "metadata": {
            "needs_background": "light"
          }
        }
      ],
      "source": [
        "fig = plt.figure(figsize=(30, 6))\n",
        "ax = fig.add_subplot(111)\n",
        "\n",
        "plt.plot(x_values_test, reconstructed_test, label='reconstructed')\n",
        "plt.plot(x_values_test, signal_test, label='original')\n",
        "\n",
        "\n",
        "plt.title('Reconstructed test dataset', size=34)\n",
        "plt.ylabel('value', size=30)\n",
        "plt.xlabel('Time', size=30)\n",
        "plt.xticks(size=26)\n",
        "plt.yticks(size=26)\n",
        "plt.legend()\n",
        "    \n",
        "plt.show()"
      ]
    },
    {
      "cell_type": "markdown",
      "metadata": {
        "id": "x4MYRhLSeSgc"
      },
      "source": [
        "Save reconstructed signal to file"
      ]
    },
    {
      "cell_type": "code",
      "execution_count": 27,
      "metadata": {
        "id": "HDperD7rbs7g",
        "colab": {
          "base_uri": "https://localhost:8080/"
        },
        "outputId": "c695bd3a-fc8e-4acd-89bf-5c3c676b76a7"
      },
      "outputs": [
        {
          "output_type": "stream",
          "name": "stdout",
          "text": [
            "   reconstructed   timestamp    signal\n",
            "0       0.615941  1386018900  0.675424\n",
            "1       0.584978  1386019200  0.684525\n",
            "2       0.558724  1386019500  0.695691\n",
            "3       0.588130  1386019800  0.714638\n",
            "4       0.566211  1386020100  0.725812\n",
            "<class 'pandas.core.frame.DataFrame'>\n",
            "RangeIndex: 4864 entries, 0 to 4863\n",
            "Data columns (total 3 columns):\n",
            " #   Column         Non-Null Count  Dtype  \n",
            "---  ------         --------------  -----  \n",
            " 0   reconstructed  4864 non-null   float64\n",
            " 1   timestamp      4864 non-null   int64  \n",
            " 2   signal         4864 non-null   float64\n",
            "dtypes: float64(2), int64(1)\n",
            "memory usage: 114.1 KB\n",
            "None\n"
          ]
        }
      ],
      "source": [
        "df_train = pd.DataFrame (reconstructed_train, columns = ['reconstructed'])\n",
        "df_train['timestamp'] = temperature_data_train['timestamp'][:len(reconstructed_train)].values\n",
        "df_train['signal'] = temperature_data_train['signal'][:len(reconstructed_train)].values\n",
        "print(df_train.head())\n",
        "print(df_train.info())\n",
        "df_train.to_csv('/content/drive/MyDrive/GANAnomalyDetection/count_reconstructed_error/datasets/temperature_train_transformer_reconstructed.csv', index=False)\n"
      ]
    },
    {
      "cell_type": "code",
      "execution_count": 28,
      "metadata": {
        "id": "pYgad1swQLPD",
        "colab": {
          "base_uri": "https://localhost:8080/"
        },
        "outputId": "919aea81-8c9b-4580-904c-fc403361db3c"
      },
      "outputs": [
        {
          "output_type": "stream",
          "name": "stdout",
          "text": [
            "1856\n"
          ]
        }
      ],
      "source": [
        "print(len(reconstructed_test))"
      ]
    },
    {
      "cell_type": "code",
      "execution_count": 29,
      "metadata": {
        "id": "lCnu74qIgtQI",
        "colab": {
          "base_uri": "https://localhost:8080/"
        },
        "outputId": "82e75513-b038-4522-e43e-699555cf6467"
      },
      "outputs": [
        {
          "output_type": "stream",
          "name": "stdout",
          "text": [
            "<class 'pandas.core.frame.DataFrame'>\n",
            "RangeIndex: 1856 entries, 0 to 1855\n",
            "Data columns (total 1 columns):\n",
            " #   Column         Non-Null Count  Dtype  \n",
            "---  ------         --------------  -----  \n",
            " 0   reconstructed  1856 non-null   float64\n",
            "dtypes: float64(1)\n",
            "memory usage: 14.6 KB\n",
            "None\n",
            "   reconstructed\n",
            "0       0.553039\n",
            "1       0.590580\n",
            "2       0.601887\n",
            "3       0.559987\n",
            "4       0.578781\n",
            "   reconstructed   timestamp    signal\n",
            "0       0.553039  1387518900  0.872812\n",
            "1       0.590580  1387519200  0.878082\n",
            "2       0.601887  1387519500  0.879614\n",
            "3       0.559987  1387519800  0.870780\n",
            "4       0.578781  1387520100  0.880160\n",
            "<class 'pandas.core.frame.DataFrame'>\n",
            "RangeIndex: 1856 entries, 0 to 1855\n",
            "Data columns (total 3 columns):\n",
            " #   Column         Non-Null Count  Dtype  \n",
            "---  ------         --------------  -----  \n",
            " 0   reconstructed  1856 non-null   float64\n",
            " 1   timestamp      1856 non-null   int64  \n",
            " 2   signal         1856 non-null   float64\n",
            "dtypes: float64(2), int64(1)\n",
            "memory usage: 43.6 KB\n",
            "None\n"
          ]
        }
      ],
      "source": [
        "df_test = pd.DataFrame (reconstructed_test, columns = ['reconstructed'])\n",
        "print(df_test.info())\n",
        "print(df_test.head())\n",
        "df_test['timestamp'] = temperature_data_test['timestamp'][:len(reconstructed_test)].values\n",
        "df_test['signal'] = temperature_data_test['signal'][:len(reconstructed_test)].values\n",
        "print(df_test.head())\n",
        "print(df_test.info())\n",
        "df_test.to_csv('/content/drive/MyDrive/GANAnomalyDetection/count_reconstructed_error/datasets/temperature_test_transformer_reconstructed.csv', index=False)"
      ]
    },
    {
      "cell_type": "code",
      "execution_count": null,
      "metadata": {
        "id": "fgJvAyuFQ3rT"
      },
      "outputs": [],
      "source": [
        ""
      ]
    }
  ],
  "metadata": {
    "accelerator": "GPU",
    "colab": {
      "name": "training_transformer.ipynb",
      "provenance": []
    },
    "kernelspec": {
      "display_name": "Python 3",
      "name": "python3"
    },
    "language_info": {
      "name": "python"
    }
  },
  "nbformat": 4,
  "nbformat_minor": 0
}